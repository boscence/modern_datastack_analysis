{
 "cells": [
  {
   "cell_type": "code",
   "execution_count": 39,
   "metadata": {},
   "outputs": [],
   "source": [
    "import pandas as pd\n",
    "import json\n",
    "import os\n"
   ]
  },
  {
   "cell_type": "code",
   "execution_count": 48,
   "metadata": {},
   "outputs": [],
   "source": [
    "import bamboolib as bam"
   ]
  },
  {
   "cell_type": "code",
   "execution_count": 40,
   "metadata": {},
   "outputs": [],
   "source": [
    "stacks = pd.read_parquet('../data/staging/mds/stack')   "
   ]
  },
  {
   "cell_type": "code",
   "execution_count": 41,
   "metadata": {},
   "outputs": [],
   "source": [
    "companies = pd.read_parquet('../data/staging/mds/company',use_nullable_dtypes = True)   "
   ]
  },
  {
   "cell_type": "code",
   "execution_count": 42,
   "metadata": {},
   "outputs": [
    {
     "data": {
      "text/html": [
       "<div>\n",
       "<style scoped>\n",
       "    .dataframe tbody tr th:only-of-type {\n",
       "        vertical-align: middle;\n",
       "    }\n",
       "\n",
       "    .dataframe tbody tr th {\n",
       "        vertical-align: top;\n",
       "    }\n",
       "\n",
       "    .dataframe thead th {\n",
       "        text-align: right;\n",
       "    }\n",
       "</style>\n",
       "<table border=\"1\" class=\"dataframe\">\n",
       "  <thead>\n",
       "    <tr style=\"text-align: right;\">\n",
       "      <th></th>\n",
       "      <th>catetory</th>\n",
       "      <th>company._id</th>\n",
       "      <th>company.companyName</th>\n",
       "      <th>company.companyLogo</th>\n",
       "      <th>company.slug</th>\n",
       "      <th>company.url</th>\n",
       "      <th>company.categories</th>\n",
       "      <th>_id</th>\n",
       "      <th>companyName</th>\n",
       "      <th>verified</th>\n",
       "      <th>load_date</th>\n",
       "    </tr>\n",
       "  </thead>\n",
       "  <tbody>\n",
       "    <tr>\n",
       "      <th>0</th>\n",
       "      <td>Data Streaming</td>\n",
       "      <td>62431d925695a66c21971421</td>\n",
       "      <td>Apache Kafka</td>\n",
       "      <td>https://svn.apache.org/repos/asf/kafka/site/lo...</td>\n",
       "      <td>apache-kafka</td>\n",
       "      <td>https://kafka.apache.org/</td>\n",
       "      <td>[{'_id': '62431d905695a66c219712fe', 'name': '...</td>\n",
       "      <td>62431d905695a66c2197123a</td>\n",
       "      <td>1mg</td>\n",
       "      <td>False</td>\n",
       "      <td>20230711</td>\n",
       "    </tr>\n",
       "    <tr>\n",
       "      <th>1</th>\n",
       "      <td>Event Tracking</td>\n",
       "      <td>62431d925695a66c21971438</td>\n",
       "      <td>Rudderstack</td>\n",
       "      <td>https://media.graphcms.com/PWlXzNpzQ7KI1PCLbJKV</td>\n",
       "      <td>rudderstack</td>\n",
       "      <td>https://rudderstack.com/</td>\n",
       "      <td>[{'_id': '62431d905695a66c219712ee', 'name': '...</td>\n",
       "      <td>62431d905695a66c2197123a</td>\n",
       "      <td>1mg</td>\n",
       "      <td>False</td>\n",
       "      <td>20230711</td>\n",
       "    </tr>\n",
       "    <tr>\n",
       "      <th>2</th>\n",
       "      <td>Reverse ETL Tools</td>\n",
       "      <td>62431d925695a66c21971438</td>\n",
       "      <td>Rudderstack</td>\n",
       "      <td>https://media.graphcms.com/PWlXzNpzQ7KI1PCLbJKV</td>\n",
       "      <td>rudderstack</td>\n",
       "      <td>https://rudderstack.com/</td>\n",
       "      <td>[{'_id': '62431d905695a66c219712ee', 'name': '...</td>\n",
       "      <td>62431d905695a66c2197123a</td>\n",
       "      <td>1mg</td>\n",
       "      <td>False</td>\n",
       "      <td>20230711</td>\n",
       "    </tr>\n",
       "    <tr>\n",
       "      <th>3</th>\n",
       "      <td>Customer Data Platform(CDP)</td>\n",
       "      <td>62431d925695a66c21971438</td>\n",
       "      <td>Rudderstack</td>\n",
       "      <td>https://media.graphcms.com/PWlXzNpzQ7KI1PCLbJKV</td>\n",
       "      <td>rudderstack</td>\n",
       "      <td>https://rudderstack.com/</td>\n",
       "      <td>[{'_id': '62431d905695a66c219712ee', 'name': '...</td>\n",
       "      <td>62431d905695a66c2197123a</td>\n",
       "      <td>1mg</td>\n",
       "      <td>False</td>\n",
       "      <td>20230711</td>\n",
       "    </tr>\n",
       "    <tr>\n",
       "      <th>4</th>\n",
       "      <td>ETL Tools</td>\n",
       "      <td>62431d925695a66c21971438</td>\n",
       "      <td>Rudderstack</td>\n",
       "      <td>https://media.graphcms.com/PWlXzNpzQ7KI1PCLbJKV</td>\n",
       "      <td>rudderstack</td>\n",
       "      <td>https://rudderstack.com/</td>\n",
       "      <td>[{'_id': '62431d905695a66c219712ee', 'name': '...</td>\n",
       "      <td>62431d905695a66c2197123a</td>\n",
       "      <td>1mg</td>\n",
       "      <td>False</td>\n",
       "      <td>20230711</td>\n",
       "    </tr>\n",
       "  </tbody>\n",
       "</table>\n",
       "</div>"
      ],
      "text/plain": [
       "                      catetory               company._id company.companyName  \\\n",
       "0               Data Streaming  62431d925695a66c21971421        Apache Kafka   \n",
       "1               Event Tracking  62431d925695a66c21971438         Rudderstack   \n",
       "2            Reverse ETL Tools  62431d925695a66c21971438         Rudderstack   \n",
       "3  Customer Data Platform(CDP)  62431d925695a66c21971438         Rudderstack   \n",
       "4                    ETL Tools  62431d925695a66c21971438         Rudderstack   \n",
       "\n",
       "                                 company.companyLogo  company.slug  \\\n",
       "0  https://svn.apache.org/repos/asf/kafka/site/lo...  apache-kafka   \n",
       "1    https://media.graphcms.com/PWlXzNpzQ7KI1PCLbJKV   rudderstack   \n",
       "2    https://media.graphcms.com/PWlXzNpzQ7KI1PCLbJKV   rudderstack   \n",
       "3    https://media.graphcms.com/PWlXzNpzQ7KI1PCLbJKV   rudderstack   \n",
       "4    https://media.graphcms.com/PWlXzNpzQ7KI1PCLbJKV   rudderstack   \n",
       "\n",
       "                 company.url  \\\n",
       "0  https://kafka.apache.org/   \n",
       "1   https://rudderstack.com/   \n",
       "2   https://rudderstack.com/   \n",
       "3   https://rudderstack.com/   \n",
       "4   https://rudderstack.com/   \n",
       "\n",
       "                                  company.categories  \\\n",
       "0  [{'_id': '62431d905695a66c219712fe', 'name': '...   \n",
       "1  [{'_id': '62431d905695a66c219712ee', 'name': '...   \n",
       "2  [{'_id': '62431d905695a66c219712ee', 'name': '...   \n",
       "3  [{'_id': '62431d905695a66c219712ee', 'name': '...   \n",
       "4  [{'_id': '62431d905695a66c219712ee', 'name': '...   \n",
       "\n",
       "                        _id companyName verified load_date  \n",
       "0  62431d905695a66c2197123a         1mg    False  20230711  \n",
       "1  62431d905695a66c2197123a         1mg    False  20230711  \n",
       "2  62431d905695a66c2197123a         1mg    False  20230711  \n",
       "3  62431d905695a66c2197123a         1mg    False  20230711  \n",
       "4  62431d905695a66c2197123a         1mg    False  20230711  "
      ]
     },
     "execution_count": 42,
     "metadata": {},
     "output_type": "execute_result"
    }
   ],
   "source": [
    "stacks.head()"
   ]
  },
  {
   "cell_type": "code",
   "execution_count": 43,
   "metadata": {},
   "outputs": [
    {
     "data": {
      "text/html": [
       "<div>\n",
       "<style scoped>\n",
       "    .dataframe tbody tr th:only-of-type {\n",
       "        vertical-align: middle;\n",
       "    }\n",
       "\n",
       "    .dataframe tbody tr th {\n",
       "        vertical-align: top;\n",
       "    }\n",
       "\n",
       "    .dataframe thead th {\n",
       "        text-align: right;\n",
       "    }\n",
       "</style>\n",
       "<table border=\"1\" class=\"dataframe\">\n",
       "  <thead>\n",
       "    <tr style=\"text-align: right;\">\n",
       "      <th></th>\n",
       "      <th>_id</th>\n",
       "      <th>companyName</th>\n",
       "      <th>description</th>\n",
       "      <th>organizationId</th>\n",
       "      <th>verified</th>\n",
       "    </tr>\n",
       "  </thead>\n",
       "  <tbody>\n",
       "    <tr>\n",
       "      <th>0</th>\n",
       "      <td>62431d905695a66c2197123a</td>\n",
       "      <td>1mg</td>\n",
       "      <td>1mg is an online platform that provides medica...</td>\n",
       "      <td>62431de75695a66c21974052</td>\n",
       "      <td>False</td>\n",
       "    </tr>\n",
       "    <tr>\n",
       "      <th>1</th>\n",
       "      <td>62de961751b67be05f6baeb9</td>\n",
       "      <td>3step sports</td>\n",
       "      <td>step is the largest youth sport event and clu...</td>\n",
       "      <td>62de961751b67be05f6baebc</td>\n",
       "      <td>True</td>\n",
       "    </tr>\n",
       "    <tr>\n",
       "      <th>2</th>\n",
       "      <td>62b2f69d51b67be05f4acd54</td>\n",
       "      <td>5x</td>\n",
       "      <td>modern data stack as a service</td>\n",
       "      <td>62b2f69d51b67be05f4acd57</td>\n",
       "      <td>True</td>\n",
       "    </tr>\n",
       "    <tr>\n",
       "      <th>3</th>\n",
       "      <td>62431d905695a66c2197123e</td>\n",
       "      <td>Adevinta</td>\n",
       "      <td>Adevinta is an online marketplace for second-h...</td>\n",
       "      <td>62431de75695a66c21974056</td>\n",
       "      <td>False</td>\n",
       "    </tr>\n",
       "    <tr>\n",
       "      <th>4</th>\n",
       "      <td>62431d905695a66c219712b4</td>\n",
       "      <td>Affirm</td>\n",
       "      <td>Affirm modern technology to bring significant ...</td>\n",
       "      <td>62431de75695a66c219740cc</td>\n",
       "      <td>False</td>\n",
       "    </tr>\n",
       "  </tbody>\n",
       "</table>\n",
       "</div>"
      ],
      "text/plain": [
       "                        _id   companyName  \\\n",
       "0  62431d905695a66c2197123a           1mg   \n",
       "1  62de961751b67be05f6baeb9  3step sports   \n",
       "2  62b2f69d51b67be05f4acd54            5x   \n",
       "3  62431d905695a66c2197123e      Adevinta   \n",
       "4  62431d905695a66c219712b4        Affirm   \n",
       "\n",
       "                                         description  \\\n",
       "0  1mg is an online platform that provides medica...   \n",
       "1   step is the largest youth sport event and clu...   \n",
       "2                     modern data stack as a service   \n",
       "3  Adevinta is an online marketplace for second-h...   \n",
       "4  Affirm modern technology to bring significant ...   \n",
       "\n",
       "             organizationId  verified  \n",
       "0  62431de75695a66c21974052     False  \n",
       "1  62de961751b67be05f6baebc      True  \n",
       "2  62b2f69d51b67be05f4acd57      True  \n",
       "3  62431de75695a66c21974056     False  \n",
       "4  62431de75695a66c219740cc     False  "
      ]
     },
     "execution_count": 43,
     "metadata": {},
     "output_type": "execute_result"
    }
   ],
   "source": [
    "companies.head()"
   ]
  },
  {
   "cell_type": "markdown",
   "metadata": {},
   "source": [
    "### How many companies have added their stack?"
   ]
  },
  {
   "cell_type": "code",
   "execution_count": 44,
   "metadata": {},
   "outputs": [
    {
     "data": {
      "text/plain": [
       "359"
      ]
     },
     "execution_count": 44,
     "metadata": {},
     "output_type": "execute_result"
    }
   ],
   "source": [
    "companies['_id'].nunique()"
   ]
  },
  {
   "cell_type": "markdown",
   "metadata": {},
   "source": [
    "### How many verified companies have added their stack?"
   ]
  },
  {
   "cell_type": "code",
   "execution_count": 47,
   "metadata": {},
   "outputs": [
    {
     "data": {
      "text/plain": [
       "verified\n",
       "False    193\n",
       "True     163\n",
       "Name: _id, dtype: int64"
      ]
     },
     "execution_count": 47,
     "metadata": {},
     "output_type": "execute_result"
    }
   ],
   "source": [
    "companies.groupby('verified')[\"_id\"].nunique()"
   ]
  },
  {
   "cell_type": "markdown",
   "metadata": {},
   "source": [
    "### Some simple eda"
   ]
  },
  {
   "cell_type": "code",
   "execution_count": 36,
   "metadata": {},
   "outputs": [
    {
     "data": {
      "text/html": [
       "<div>\n",
       "<style scoped>\n",
       "    .dataframe tbody tr th:only-of-type {\n",
       "        vertical-align: middle;\n",
       "    }\n",
       "\n",
       "    .dataframe tbody tr th {\n",
       "        vertical-align: top;\n",
       "    }\n",
       "\n",
       "    .dataframe thead th {\n",
       "        text-align: right;\n",
       "    }\n",
       "</style>\n",
       "<table border=\"1\" class=\"dataframe\">\n",
       "  <thead>\n",
       "    <tr style=\"text-align: right;\">\n",
       "      <th></th>\n",
       "      <th>catetory</th>\n",
       "      <th>company.companyName</th>\n",
       "      <th>counted</th>\n",
       "    </tr>\n",
       "  </thead>\n",
       "  <tbody>\n",
       "    <tr>\n",
       "      <th>0</th>\n",
       "      <td>Augmented Analytics</td>\n",
       "      <td>Adverity.com</td>\n",
       "      <td>1</td>\n",
       "    </tr>\n",
       "    <tr>\n",
       "      <th>1</th>\n",
       "      <td>Augmented Analytics</td>\n",
       "      <td>Sisu Data</td>\n",
       "      <td>6</td>\n",
       "    </tr>\n",
       "    <tr>\n",
       "      <th>2</th>\n",
       "      <td>Augmented Analytics</td>\n",
       "      <td>Tellius</td>\n",
       "      <td>1</td>\n",
       "    </tr>\n",
       "    <tr>\n",
       "      <th>3</th>\n",
       "      <td>Augmented Analytics</td>\n",
       "      <td>ThoughtSpot</td>\n",
       "      <td>6</td>\n",
       "    </tr>\n",
       "    <tr>\n",
       "      <th>4</th>\n",
       "      <td>Augmented Analytics</td>\n",
       "      <td>Yellowfinbi</td>\n",
       "      <td>2</td>\n",
       "    </tr>\n",
       "    <tr>\n",
       "      <th>...</th>\n",
       "      <td>...</td>\n",
       "      <td>...</td>\n",
       "      <td>...</td>\n",
       "    </tr>\n",
       "    <tr>\n",
       "      <th>221</th>\n",
       "      <td>Workflow Orchestration</td>\n",
       "      <td>Kestra</td>\n",
       "      <td>1</td>\n",
       "    </tr>\n",
       "    <tr>\n",
       "      <th>222</th>\n",
       "      <td>Workflow Orchestration</td>\n",
       "      <td>Kubeflow</td>\n",
       "      <td>4</td>\n",
       "    </tr>\n",
       "    <tr>\n",
       "      <th>223</th>\n",
       "      <td>Workflow Orchestration</td>\n",
       "      <td>Prefect</td>\n",
       "      <td>3</td>\n",
       "    </tr>\n",
       "    <tr>\n",
       "      <th>224</th>\n",
       "      <td>Workflow Orchestration</td>\n",
       "      <td>Rivery.io</td>\n",
       "      <td>3</td>\n",
       "    </tr>\n",
       "    <tr>\n",
       "      <th>225</th>\n",
       "      <td>Workflow Orchestration</td>\n",
       "      <td>Shipyard</td>\n",
       "      <td>1</td>\n",
       "    </tr>\n",
       "  </tbody>\n",
       "</table>\n",
       "<p>226 rows × 3 columns</p>\n",
       "</div>"
      ],
      "text/plain": [
       "                   catetory company.companyName  counted\n",
       "0       Augmented Analytics        Adverity.com        1\n",
       "1       Augmented Analytics           Sisu Data        6\n",
       "2       Augmented Analytics             Tellius        1\n",
       "3       Augmented Analytics         ThoughtSpot        6\n",
       "4       Augmented Analytics         Yellowfinbi        2\n",
       "..                      ...                 ...      ...\n",
       "221  Workflow Orchestration              Kestra        1\n",
       "222  Workflow Orchestration            Kubeflow        4\n",
       "223  Workflow Orchestration             Prefect        3\n",
       "224  Workflow Orchestration           Rivery.io        3\n",
       "225  Workflow Orchestration            Shipyard        1\n",
       "\n",
       "[226 rows x 3 columns]"
      ]
     },
     "execution_count": 36,
     "metadata": {},
     "output_type": "execute_result"
    }
   ],
   "source": [
    "bb = stacks.groupby([\"catetory\",\"company.companyName\"]).size().reset_index(name = 'counted')"
   ]
  },
  {
   "cell_type": "code",
   "execution_count": 17,
   "metadata": {},
   "outputs": [
    {
     "data": {
      "text/html": [
       "<div>\n",
       "<style scoped>\n",
       "    .dataframe tbody tr th:only-of-type {\n",
       "        vertical-align: middle;\n",
       "    }\n",
       "\n",
       "    .dataframe tbody tr th {\n",
       "        vertical-align: top;\n",
       "    }\n",
       "\n",
       "    .dataframe thead th {\n",
       "        text-align: right;\n",
       "    }\n",
       "</style>\n",
       "<table border=\"1\" class=\"dataframe\">\n",
       "  <thead>\n",
       "    <tr style=\"text-align: right;\">\n",
       "      <th></th>\n",
       "      <th>catetory</th>\n",
       "      <th>company.companyName</th>\n",
       "      <th>counted</th>\n",
       "    </tr>\n",
       "  </thead>\n",
       "  <tbody>\n",
       "    <tr>\n",
       "      <th>93</th>\n",
       "      <td>Data Modelling and Transformation</td>\n",
       "      <td>dbt</td>\n",
       "      <td>440</td>\n",
       "    </tr>\n",
       "    <tr>\n",
       "      <th>135</th>\n",
       "      <td>Data Warehouses</td>\n",
       "      <td>Snowflake</td>\n",
       "      <td>290</td>\n",
       "    </tr>\n",
       "    <tr>\n",
       "      <th>152</th>\n",
       "      <td>ETL Tools</td>\n",
       "      <td>Fivetran</td>\n",
       "      <td>246</td>\n",
       "    </tr>\n",
       "    <tr>\n",
       "      <th>14</th>\n",
       "      <td>Business Intelligence (BI)</td>\n",
       "      <td>Looker</td>\n",
       "      <td>238</td>\n",
       "    </tr>\n",
       "    <tr>\n",
       "      <th>213</th>\n",
       "      <td>Workflow Orchestration</td>\n",
       "      <td>Airflow</td>\n",
       "      <td>208</td>\n",
       "    </tr>\n",
       "    <tr>\n",
       "      <th>25</th>\n",
       "      <td>Business Intelligence (BI)</td>\n",
       "      <td>Tableau</td>\n",
       "      <td>164</td>\n",
       "    </tr>\n",
       "    <tr>\n",
       "      <th>130</th>\n",
       "      <td>Data Warehouses</td>\n",
       "      <td>Google BigQuery</td>\n",
       "      <td>152</td>\n",
       "    </tr>\n",
       "    <tr>\n",
       "      <th>133</th>\n",
       "      <td>Data Warehouses</td>\n",
       "      <td>Redshift</td>\n",
       "      <td>146</td>\n",
       "    </tr>\n",
       "    <tr>\n",
       "      <th>74</th>\n",
       "      <td>Data Lakes</td>\n",
       "      <td>AWS S3</td>\n",
       "      <td>142</td>\n",
       "    </tr>\n",
       "    <tr>\n",
       "      <th>33</th>\n",
       "      <td>Customer Data Platform(CDP)</td>\n",
       "      <td>Segment</td>\n",
       "      <td>96</td>\n",
       "    </tr>\n",
       "    <tr>\n",
       "      <th>170</th>\n",
       "      <td>Event Tracking</td>\n",
       "      <td>Segment</td>\n",
       "      <td>96</td>\n",
       "    </tr>\n",
       "    <tr>\n",
       "      <th>77</th>\n",
       "      <td>Data Lakes</td>\n",
       "      <td>Databricks</td>\n",
       "      <td>86</td>\n",
       "    </tr>\n",
       "    <tr>\n",
       "      <th>127</th>\n",
       "      <td>Data Warehouses</td>\n",
       "      <td>Databricks</td>\n",
       "      <td>86</td>\n",
       "    </tr>\n",
       "    <tr>\n",
       "      <th>114</th>\n",
       "      <td>Data Streaming</td>\n",
       "      <td>Apache Kafka</td>\n",
       "      <td>86</td>\n",
       "    </tr>\n",
       "    <tr>\n",
       "      <th>164</th>\n",
       "      <td>ETL Tools</td>\n",
       "      <td>Stitch</td>\n",
       "      <td>80</td>\n",
       "    </tr>\n",
       "    <tr>\n",
       "      <th>204</th>\n",
       "      <td>Reverse ETL Tools</td>\n",
       "      <td>Hightouch</td>\n",
       "      <td>60</td>\n",
       "    </tr>\n",
       "    <tr>\n",
       "      <th>88</th>\n",
       "      <td>Data Modelling and Transformation</td>\n",
       "      <td>Apache Spark</td>\n",
       "      <td>58</td>\n",
       "    </tr>\n",
       "    <tr>\n",
       "      <th>112</th>\n",
       "      <td>Data Streaming</td>\n",
       "      <td>AWS Kinesis</td>\n",
       "      <td>56</td>\n",
       "    </tr>\n",
       "    <tr>\n",
       "      <th>15</th>\n",
       "      <td>Business Intelligence (BI)</td>\n",
       "      <td>Metabase</td>\n",
       "      <td>54</td>\n",
       "    </tr>\n",
       "    <tr>\n",
       "      <th>147</th>\n",
       "      <td>ETL Tools</td>\n",
       "      <td>Airbyte</td>\n",
       "      <td>48</td>\n",
       "    </tr>\n",
       "    <tr>\n",
       "      <th>17</th>\n",
       "      <td>Business Intelligence (BI)</td>\n",
       "      <td>Mode</td>\n",
       "      <td>38</td>\n",
       "    </tr>\n",
       "    <tr>\n",
       "      <th>18</th>\n",
       "      <td>Business Intelligence (BI)</td>\n",
       "      <td>Power BI</td>\n",
       "      <td>38</td>\n",
       "    </tr>\n",
       "    <tr>\n",
       "      <th>80</th>\n",
       "      <td>Data Lakes</td>\n",
       "      <td>Google Cloud Storage</td>\n",
       "      <td>36</td>\n",
       "    </tr>\n",
       "    <tr>\n",
       "      <th>24</th>\n",
       "      <td>Business Intelligence (BI)</td>\n",
       "      <td>Superset</td>\n",
       "      <td>30</td>\n",
       "    </tr>\n",
       "    <tr>\n",
       "      <th>203</th>\n",
       "      <td>Reverse ETL Tools</td>\n",
       "      <td>Census</td>\n",
       "      <td>30</td>\n",
       "    </tr>\n",
       "    <tr>\n",
       "      <th>113</th>\n",
       "      <td>Data Streaming</td>\n",
       "      <td>Apache Flink</td>\n",
       "      <td>26</td>\n",
       "    </tr>\n",
       "    <tr>\n",
       "      <th>146</th>\n",
       "      <td>ETL Tools</td>\n",
       "      <td>AWS Glue</td>\n",
       "      <td>26</td>\n",
       "    </tr>\n",
       "    <tr>\n",
       "      <th>141</th>\n",
       "      <td>Data Workspace/ Collaboration</td>\n",
       "      <td>Hex</td>\n",
       "      <td>24</td>\n",
       "    </tr>\n",
       "    <tr>\n",
       "      <th>218</th>\n",
       "      <td>Workflow Orchestration</td>\n",
       "      <td>Dagster</td>\n",
       "      <td>22</td>\n",
       "    </tr>\n",
       "    <tr>\n",
       "      <th>87</th>\n",
       "      <td>Data Modelling and Transformation</td>\n",
       "      <td>AWS Athena</td>\n",
       "      <td>22</td>\n",
       "    </tr>\n",
       "    <tr>\n",
       "      <th>162</th>\n",
       "      <td>ETL Tools</td>\n",
       "      <td>Rudderstack</td>\n",
       "      <td>20</td>\n",
       "    </tr>\n",
       "    <tr>\n",
       "      <th>169</th>\n",
       "      <td>Event Tracking</td>\n",
       "      <td>Rudderstack</td>\n",
       "      <td>20</td>\n",
       "    </tr>\n",
       "    <tr>\n",
       "      <th>206</th>\n",
       "      <td>Reverse ETL Tools</td>\n",
       "      <td>Rudderstack</td>\n",
       "      <td>20</td>\n",
       "    </tr>\n",
       "    <tr>\n",
       "      <th>32</th>\n",
       "      <td>Customer Data Platform(CDP)</td>\n",
       "      <td>Rudderstack</td>\n",
       "      <td>20</td>\n",
       "    </tr>\n",
       "    <tr>\n",
       "      <th>171</th>\n",
       "      <td>Event Tracking</td>\n",
       "      <td>Snowplow</td>\n",
       "      <td>20</td>\n",
       "    </tr>\n",
       "    <tr>\n",
       "      <th>220</th>\n",
       "      <td>Workflow Orchestration</td>\n",
       "      <td>Google Cloud Composer</td>\n",
       "      <td>20</td>\n",
       "    </tr>\n",
       "    <tr>\n",
       "      <th>209</th>\n",
       "      <td>Spreadsheet based BI</td>\n",
       "      <td>Sigma</td>\n",
       "      <td>18</td>\n",
       "    </tr>\n",
       "    <tr>\n",
       "      <th>76</th>\n",
       "      <td>Data Lakes</td>\n",
       "      <td>Azure Cloud Storage</td>\n",
       "      <td>18</td>\n",
       "    </tr>\n",
       "    <tr>\n",
       "      <th>22</th>\n",
       "      <td>Business Intelligence (BI)</td>\n",
       "      <td>Sigma</td>\n",
       "      <td>18</td>\n",
       "    </tr>\n",
       "    <tr>\n",
       "      <th>16</th>\n",
       "      <td>Business Intelligence (BI)</td>\n",
       "      <td>Microstrategy</td>\n",
       "      <td>18</td>\n",
       "    </tr>\n",
       "    <tr>\n",
       "      <th>182</th>\n",
       "      <td>Metrics Store</td>\n",
       "      <td>Cube</td>\n",
       "      <td>16</td>\n",
       "    </tr>\n",
       "    <tr>\n",
       "      <th>157</th>\n",
       "      <td>ETL Tools</td>\n",
       "      <td>Matillion</td>\n",
       "      <td>16</td>\n",
       "    </tr>\n",
       "    <tr>\n",
       "      <th>109</th>\n",
       "      <td>Data Quality Monitoring</td>\n",
       "      <td>Monte Carlo Data</td>\n",
       "      <td>16</td>\n",
       "    </tr>\n",
       "    <tr>\n",
       "      <th>200</th>\n",
       "      <td>Product Analytics</td>\n",
       "      <td>Mixpanel</td>\n",
       "      <td>16</td>\n",
       "    </tr>\n",
       "    <tr>\n",
       "      <th>21</th>\n",
       "      <td>Business Intelligence (BI)</td>\n",
       "      <td>Salesforce Einstein Analytics</td>\n",
       "      <td>16</td>\n",
       "    </tr>\n",
       "    <tr>\n",
       "      <th>20</th>\n",
       "      <td>Business Intelligence (BI)</td>\n",
       "      <td>Redash</td>\n",
       "      <td>16</td>\n",
       "    </tr>\n",
       "    <tr>\n",
       "      <th>107</th>\n",
       "      <td>Data Quality Monitoring</td>\n",
       "      <td>Great Expectations</td>\n",
       "      <td>14</td>\n",
       "    </tr>\n",
       "    <tr>\n",
       "      <th>54</th>\n",
       "      <td>Data Cataloging</td>\n",
       "      <td>Qlikview</td>\n",
       "      <td>14</td>\n",
       "    </tr>\n",
       "    <tr>\n",
       "      <th>62</th>\n",
       "      <td>Data Discovery</td>\n",
       "      <td>Alteryx</td>\n",
       "      <td>14</td>\n",
       "    </tr>\n",
       "    <tr>\n",
       "      <th>19</th>\n",
       "      <td>Business Intelligence (BI)</td>\n",
       "      <td>Qlikview</td>\n",
       "      <td>14</td>\n",
       "    </tr>\n",
       "  </tbody>\n",
       "</table>\n",
       "</div>"
      ],
      "text/plain": [
       "                              catetory            company.companyName  counted\n",
       "93   Data Modelling and Transformation                            dbt      440\n",
       "135                    Data Warehouses                      Snowflake      290\n",
       "152                          ETL Tools                       Fivetran      246\n",
       "14          Business Intelligence (BI)                         Looker      238\n",
       "213             Workflow Orchestration                        Airflow      208\n",
       "25          Business Intelligence (BI)                        Tableau      164\n",
       "130                    Data Warehouses                Google BigQuery      152\n",
       "133                    Data Warehouses                       Redshift      146\n",
       "74                          Data Lakes                         AWS S3      142\n",
       "33         Customer Data Platform(CDP)                        Segment       96\n",
       "170                     Event Tracking                        Segment       96\n",
       "77                          Data Lakes                     Databricks       86\n",
       "127                    Data Warehouses                     Databricks       86\n",
       "114                     Data Streaming                   Apache Kafka       86\n",
       "164                          ETL Tools                         Stitch       80\n",
       "204                  Reverse ETL Tools                      Hightouch       60\n",
       "88   Data Modelling and Transformation                   Apache Spark       58\n",
       "112                     Data Streaming                    AWS Kinesis       56\n",
       "15          Business Intelligence (BI)                       Metabase       54\n",
       "147                          ETL Tools                        Airbyte       48\n",
       "17          Business Intelligence (BI)                           Mode       38\n",
       "18          Business Intelligence (BI)                       Power BI       38\n",
       "80                          Data Lakes           Google Cloud Storage       36\n",
       "24          Business Intelligence (BI)                       Superset       30\n",
       "203                  Reverse ETL Tools                         Census       30\n",
       "113                     Data Streaming                   Apache Flink       26\n",
       "146                          ETL Tools                       AWS Glue       26\n",
       "141      Data Workspace/ Collaboration                            Hex       24\n",
       "218             Workflow Orchestration                        Dagster       22\n",
       "87   Data Modelling and Transformation                     AWS Athena       22\n",
       "162                          ETL Tools                    Rudderstack       20\n",
       "169                     Event Tracking                    Rudderstack       20\n",
       "206                  Reverse ETL Tools                    Rudderstack       20\n",
       "32         Customer Data Platform(CDP)                    Rudderstack       20\n",
       "171                     Event Tracking                       Snowplow       20\n",
       "220             Workflow Orchestration          Google Cloud Composer       20\n",
       "209               Spreadsheet based BI                          Sigma       18\n",
       "76                          Data Lakes            Azure Cloud Storage       18\n",
       "22          Business Intelligence (BI)                          Sigma       18\n",
       "16          Business Intelligence (BI)                  Microstrategy       18\n",
       "182                      Metrics Store                           Cube       16\n",
       "157                          ETL Tools                      Matillion       16\n",
       "109            Data Quality Monitoring               Monte Carlo Data       16\n",
       "200                  Product Analytics                       Mixpanel       16\n",
       "21          Business Intelligence (BI)  Salesforce Einstein Analytics       16\n",
       "20          Business Intelligence (BI)                         Redash       16\n",
       "107            Data Quality Monitoring             Great Expectations       14\n",
       "54                     Data Cataloging                       Qlikview       14\n",
       "62                      Data Discovery                        Alteryx       14\n",
       "19          Business Intelligence (BI)                       Qlikview       14"
      ]
     },
     "execution_count": 17,
     "metadata": {},
     "output_type": "execute_result"
    }
   ],
   "source": [
    "bb.sort_values(by = \"counted\",ascending=False ).head(50)"
   ]
  },
  {
   "cell_type": "code",
   "execution_count": 53,
   "metadata": {},
   "outputs": [
    {
     "data": {
      "application/vnd.jupyter.widget-view+json": {
       "model_id": "cfe051b15727475aaa8c0717161eaead"
      },
      "text/plain": [
       "                              catetory company.companyName  verified  \\\n",
       "135  Data Modelling and Transformation                 dbt     False   \n",
       "194                    Data Warehouses           Snowflake     False   \n",
       "136  Data Modelling and Transformation                 dbt      True   \n",
       "17          Business Intelligence (BI)              Looker     False   \n",
       "218                          ETL Tools            Fivetran     False   \n",
       "..                                 ...                 ...       ...   \n",
       "172                     Data Streaming         Materialize     False   \n",
       "174                     Data Streaming             Popsink      True   \n",
       "175                     Data Streaming            Redpanda      True   \n",
       "176                     Data Streaming        StreamNative     False   \n",
       "324             Workflow Orchestration            Shipyard      True   \n",
       "\n",
       "     company._id_size  \n",
       "135               132  \n",
       "194                92  \n",
       "136                86  \n",
       "17                 80  \n",
       "218                69  \n",
       "..                ...  \n",
       "172                 1  \n",
       "174                 1  \n",
       "175                 1  \n",
       "176                 1  \n",
       "324                 1  \n",
       "\n",
       "[325 rows x 4 columns]"
      ]
     },
     "metadata": {},
     "output_type": "display_data"
    }
   ],
   "source": [
    "import pandas as pd; import numpy as np\n",
    "# Step: Group by and aggregate\n",
    "gb_cat_comp_veri_unique = stacks.groupby(['catetory', 'company.companyName', 'verified']).agg(**{'company._id_size': ('company._id', 'size')}).reset_index()\n",
    "\n",
    "# Step: Sort column(s) company._id_size descending (Z-A)\n",
    "gb_cat_comp_veri_unique = gb_cat_comp_veri_unique.sort_values(by=['company._id_size'], ascending=[False])\n",
    "\n",
    "gb_cat_comp_veri_unique"
   ]
  },
  {
   "cell_type": "code",
   "execution_count": 51,
   "metadata": {},
   "outputs": [],
   "source": [
    "# Step: Group by and aggregate\n",
    "gb_cat_comp_veri_unique = stacks.groupby(['catetory', 'companyName', 'verified']).agg(**{'company._id_size': ('company._id', 'size')}).reset_index()\n",
    "\n"
   ]
  },
  {
   "cell_type": "code",
   "execution_count": 52,
   "metadata": {},
   "outputs": [
    {
     "data": {
      "application/vnd.jupyter.widget-view+json": {
       "model_id": "7b2b0f62f24948e3b6dc5aa224718565"
      },
      "text/plain": [
       "                    catetory                     companyName  verified  \\\n",
       "0        Augmented Analytics                       Coca Cola     False   \n",
       "1        Augmented Analytics                          Egnyte     False   \n",
       "2        Augmented Analytics                        HomeToGo     False   \n",
       "3        Augmented Analytics                       Matillion      True   \n",
       "4        Augmented Analytics                         Samsung     False   \n",
       "...                      ...                             ...       ...   \n",
       "1696  Workflow Orchestration                        terality      True   \n",
       "1697  Workflow Orchestration  thinking machines data science      True   \n",
       "1698  Workflow Orchestration                          thrive      True   \n",
       "1699  Workflow Orchestration                         unionai      True   \n",
       "1700  Workflow Orchestration                    wisdomgarden     False   \n",
       "\n",
       "      company._id_size  \n",
       "0                    1  \n",
       "1                    1  \n",
       "2                    1  \n",
       "3                    1  \n",
       "4                    1  \n",
       "...                ...  \n",
       "1696                 1  \n",
       "1697                 2  \n",
       "1698                 1  \n",
       "1699                 1  \n",
       "1700                 1  \n",
       "\n",
       "[1701 rows x 4 columns]"
      ]
     },
     "metadata": {},
     "output_type": "display_data"
    }
   ],
   "source": [
    "gb_cat_comp_veri_unique"
   ]
  },
  {
   "cell_type": "code",
   "execution_count": 55,
   "metadata": {},
   "outputs": [
    {
     "data": {
      "application/vnd.plotly.v1+json": {
       "config": {
        "plotlyServerURL": "https://plot.ly"
       },
       "data": [
        {
         "alignmentgroup": "True",
         "bingroup": "x",
         "histfunc": "sum",
         "hovertemplate": "catetory=Data Modelling and Transformation<br>company.companyName=%{x}<br>sum of company._id_size=%{y}<extra></extra>",
         "legendgroup": "Data Modelling and Transformation",
         "marker": {
          "color": "#636efa",
          "pattern": {
           "shape": ""
          }
         },
         "name": "Data Modelling and Transformation",
         "offsetgroup": "Data Modelling and Transformation",
         "orientation": "v",
         "showlegend": true,
         "type": "histogram",
         "x": [
          "dbt",
          "dbt",
          "Apache Spark",
          "Apache Spark",
          "AWS Athena",
          "Dataform",
          "AWS Athena",
          "Rivery.io",
          "Dataform",
          "Datameer",
          "Rivery.io",
          "Upsolver"
         ],
         "xaxis": "x",
         "y": [
          132,
          86,
          18,
          11,
          8,
          3,
          3,
          2,
          1,
          1,
          1,
          1
         ],
         "yaxis": "y"
        },
        {
         "alignmentgroup": "True",
         "bingroup": "x",
         "histfunc": "sum",
         "hovertemplate": "catetory=Data Warehouses<br>company.companyName=%{x}<br>sum of company._id_size=%{y}<extra></extra>",
         "legendgroup": "Data Warehouses",
         "marker": {
          "color": "#EF553B",
          "pattern": {
           "shape": ""
          }
         },
         "name": "Data Warehouses",
         "offsetgroup": "Data Warehouses",
         "orientation": "v",
         "showlegend": true,
         "type": "histogram",
         "x": [
          "Snowflake",
          "Snowflake",
          "Google BigQuery",
          "Redshift",
          "Google BigQuery",
          "Redshift",
          "Databricks",
          "Databricks",
          "Vertica",
          "Hive",
          "Oracle",
          "Tera data",
          "Azure Synapse Analytics",
          "Firebolt",
          "Oracle",
          "SAP business warehouse",
          "StarRocks",
          "StarRocks",
          "Upsolver",
          "Vertica",
          "Hive",
          "Dremio",
          "Azure Synapse Analytics"
         ],
         "xaxis": "x",
         "y": [
          92,
          51,
          44,
          43,
          32,
          29,
          25,
          18,
          5,
          4,
          3,
          3,
          2,
          2,
          1,
          1,
          1,
          1,
          1,
          1,
          1,
          1,
          1
         ],
         "yaxis": "y"
        },
        {
         "alignmentgroup": "True",
         "bingroup": "x",
         "histfunc": "sum",
         "hovertemplate": "catetory=Business Intelligence (BI)<br>company.companyName=%{x}<br>sum of company._id_size=%{y}<extra></extra>",
         "legendgroup": "Business Intelligence (BI)",
         "marker": {
          "color": "#00cc96",
          "pattern": {
           "shape": ""
          }
         },
         "name": "Business Intelligence (BI)",
         "offsetgroup": "Business Intelligence (BI)",
         "orientation": "v",
         "showlegend": true,
         "type": "histogram",
         "x": [
          "Looker",
          "Tableau",
          "Looker",
          "Tableau",
          "Metabase",
          "Mode",
          "Metabase",
          "Superset",
          "Power BI",
          "Power BI",
          "Mode",
          "Sigma",
          "Salesforce Einstein Analytics",
          "Microstrategy",
          "Qlikview",
          "Superset",
          "Redash",
          "Lightdash",
          "Redash",
          "Domo",
          "y42",
          "Sisense",
          "Sisense",
          "Microstrategy",
          "Glean",
          "Sigma",
          "Adverity.com",
          "Amazon Quick Sight",
          "CleverMaps",
          "Cluvio",
          "GoodData",
          "Holistics.io",
          "Holistics.io",
          "Qlikview",
          "Salesforce Einstein Analytics"
         ],
         "xaxis": "x",
         "y": [
          80,
          57,
          38,
          25,
          16,
          12,
          11,
          10,
          10,
          8,
          7,
          7,
          7,
          7,
          6,
          5,
          4,
          3,
          3,
          3,
          2,
          2,
          2,
          2,
          2,
          2,
          1,
          1,
          1,
          1,
          1,
          1,
          1,
          1,
          1
         ],
         "yaxis": "y"
        },
        {
         "alignmentgroup": "True",
         "bingroup": "x",
         "histfunc": "sum",
         "hovertemplate": "catetory=ETL Tools<br>company.companyName=%{x}<br>sum of company._id_size=%{y}<extra></extra>",
         "legendgroup": "ETL Tools",
         "marker": {
          "color": "#ab63fa",
          "pattern": {
           "shape": ""
          }
         },
         "name": "ETL Tools",
         "offsetgroup": "ETL Tools",
         "orientation": "v",
         "showlegend": true,
         "type": "histogram",
         "x": [
          "Fivetran",
          "Fivetran",
          "Stitch",
          "Airbyte",
          "Stitch",
          "AWS Glue",
          "Airbyte",
          "Matillion",
          "Rudderstack",
          "Rudderstack",
          "Meltano",
          "AWS Glue",
          "Azure data factory",
          "Hevo Data",
          "Matillion",
          "Meltano",
          "Singer",
          "Rivery.io",
          "StreamSets",
          "Funnel.io",
          "Talend",
          "Data Channel",
          "Supermetrics",
          "Supermetrics",
          "informatica",
          "informatica",
          "Rivery.io",
          "Popsink",
          "Alooma",
          "Azure data factory",
          "Data Channel",
          "Dataddo",
          "Funnel.io",
          "Hevo Data",
          "Indicative",
          "Kleene.ai",
          "Metorikku"
         ],
         "xaxis": "x",
         "y": [
          69,
          52,
          24,
          15,
          15,
          9,
          9,
          5,
          5,
          5,
          4,
          4,
          4,
          4,
          3,
          3,
          3,
          2,
          2,
          2,
          2,
          2,
          1,
          1,
          1,
          1,
          1,
          1,
          1,
          1,
          1,
          1,
          1,
          1,
          1,
          1,
          1
         ],
         "yaxis": "y"
        },
        {
         "alignmentgroup": "True",
         "bingroup": "x",
         "histfunc": "sum",
         "hovertemplate": "catetory=Workflow Orchestration<br>company.companyName=%{x}<br>sum of company._id_size=%{y}<extra></extra>",
         "legendgroup": "Workflow Orchestration",
         "marker": {
          "color": "#FFA15A",
          "pattern": {
           "shape": ""
          }
         },
         "name": "Workflow Orchestration",
         "offsetgroup": "Workflow Orchestration",
         "orientation": "v",
         "showlegend": true,
         "type": "histogram",
         "x": [
          "Airflow",
          "Airflow",
          "Google Cloud Composer",
          "Astronomer",
          "Dagster",
          "Dagster",
          "Google Cloud Composer",
          "Rivery.io",
          "Argo",
          "Kubeflow",
          "Kubeflow",
          "Prefect",
          "Argo",
          "Flyte",
          "Rivery.io",
          "Apache Luigi",
          "Apache Luigi",
          "Prefect",
          "Kestra",
          "Apache Nifi",
          "Shipyard"
         ],
         "xaxis": "x",
         "y": [
          66,
          37,
          6,
          6,
          6,
          5,
          4,
          2,
          2,
          2,
          2,
          2,
          2,
          1,
          1,
          1,
          1,
          1,
          1,
          1,
          1
         ],
         "yaxis": "y"
        },
        {
         "alignmentgroup": "True",
         "bingroup": "x",
         "histfunc": "sum",
         "hovertemplate": "catetory=Data Lakes<br>company.companyName=%{x}<br>sum of company._id_size=%{y}<extra></extra>",
         "legendgroup": "Data Lakes",
         "marker": {
          "color": "#19d3f3",
          "pattern": {
           "shape": ""
          }
         },
         "name": "Data Lakes",
         "offsetgroup": "Data Lakes",
         "orientation": "v",
         "showlegend": true,
         "type": "histogram",
         "x": [
          "AWS S3",
          "AWS S3",
          "Databricks",
          "Databricks",
          "Google Cloud Storage",
          "Azure Cloud Storage",
          "Google Cloud Storage",
          "Azure Cloud Storage",
          "Apache Hudi",
          "Delta.io",
          "Starburst",
          "Min.io",
          "Dremio",
          "Qubole",
          "Upsolver"
         ],
         "xaxis": "x",
         "y": [
          36,
          34,
          25,
          18,
          13,
          5,
          5,
          4,
          4,
          3,
          2,
          2,
          1,
          1,
          1
         ],
         "yaxis": "y"
        },
        {
         "alignmentgroup": "True",
         "bingroup": "x",
         "histfunc": "sum",
         "hovertemplate": "catetory=Event Tracking<br>company.companyName=%{x}<br>sum of company._id_size=%{y}<extra></extra>",
         "legendgroup": "Event Tracking",
         "marker": {
          "color": "#FF6692",
          "pattern": {
           "shape": ""
          }
         },
         "name": "Event Tracking",
         "offsetgroup": "Event Tracking",
         "orientation": "v",
         "showlegend": true,
         "type": "histogram",
         "x": [
          "Segment",
          "Segment",
          "Snowplow",
          "Rudderstack",
          "Rudderstack",
          "Snowplow"
         ],
         "xaxis": "x",
         "y": [
          32,
          15,
          6,
          5,
          5,
          4
         ],
         "yaxis": "y"
        },
        {
         "alignmentgroup": "True",
         "bingroup": "x",
         "histfunc": "sum",
         "hovertemplate": "catetory=Customer Data Platform(CDP)<br>company.companyName=%{x}<br>sum of company._id_size=%{y}<extra></extra>",
         "legendgroup": "Customer Data Platform(CDP)",
         "marker": {
          "color": "#B6E880",
          "pattern": {
           "shape": ""
          }
         },
         "name": "Customer Data Platform(CDP)",
         "offsetgroup": "Customer Data Platform(CDP)",
         "orientation": "v",
         "showlegend": true,
         "type": "histogram",
         "x": [
          "Segment",
          "Segment",
          "Rudderstack",
          "Rudderstack",
          "mparticle",
          "mparticle",
          "Iteratively",
          "Jitsu",
          "Simon",
          "Supergrain",
          "Tealium"
         ],
         "xaxis": "x",
         "y": [
          32,
          15,
          5,
          5,
          3,
          2,
          1,
          1,
          1,
          1,
          1
         ],
         "yaxis": "y"
        },
        {
         "alignmentgroup": "True",
         "bingroup": "x",
         "histfunc": "sum",
         "hovertemplate": "catetory=Reverse ETL Tools<br>company.companyName=%{x}<br>sum of company._id_size=%{y}<extra></extra>",
         "legendgroup": "Reverse ETL Tools",
         "marker": {
          "color": "#FF97FF",
          "pattern": {
           "shape": ""
          }
         },
         "name": "Reverse ETL Tools",
         "offsetgroup": "Reverse ETL Tools",
         "orientation": "v",
         "showlegend": true,
         "type": "histogram",
         "x": [
          "Hightouch",
          "Hightouch",
          "Census",
          "Census",
          "Rudderstack",
          "Rudderstack",
          "Nexla"
         ],
         "xaxis": "x",
         "y": [
          22,
          8,
          7,
          7,
          5,
          5,
          2
         ],
         "yaxis": "y"
        },
        {
         "alignmentgroup": "True",
         "bingroup": "x",
         "histfunc": "sum",
         "hovertemplate": "catetory=Data Streaming<br>company.companyName=%{x}<br>sum of company._id_size=%{y}<extra></extra>",
         "legendgroup": "Data Streaming",
         "marker": {
          "color": "#FECB52",
          "pattern": {
           "shape": ""
          }
         },
         "name": "Data Streaming",
         "offsetgroup": "Data Streaming",
         "orientation": "v",
         "showlegend": true,
         "type": "histogram",
         "x": [
          "Apache Kafka",
          "Apache Kafka",
          "AWS Kinesis",
          "AWS Kinesis",
          "Apache Flink",
          "Apache Flink",
          "Apache Storm",
          "Google Cloud Dataflow",
          "Materialize",
          "Beam",
          "Google Cloud Dataflow",
          "Confluent",
          "Confluent",
          "StreamSets",
          "Ververica",
          "KsqlDB",
          "Materialize",
          "Popsink",
          "Redpanda",
          "StreamNative"
         ],
         "xaxis": "x",
         "y": [
          21,
          21,
          16,
          12,
          8,
          5,
          5,
          4,
          2,
          2,
          2,
          2,
          2,
          2,
          1,
          1,
          1,
          1,
          1,
          1
         ],
         "yaxis": "y"
        },
        {
         "alignmentgroup": "True",
         "bingroup": "x",
         "histfunc": "sum",
         "hovertemplate": "catetory=Data Workspace/ Collaboration<br>company.companyName=%{x}<br>sum of company._id_size=%{y}<extra></extra>",
         "legendgroup": "Data Workspace/ Collaboration",
         "marker": {
          "color": "#636efa",
          "pattern": {
           "shape": ""
          }
         },
         "name": "Data Workspace/ Collaboration",
         "offsetgroup": "Data Workspace/ Collaboration",
         "orientation": "v",
         "showlegend": true,
         "type": "histogram",
         "x": [
          "Hex",
          "Keboola",
          "Hex",
          "Hyperquery",
          "Noteable",
          "PopSQL"
         ],
         "xaxis": "x",
         "y": [
          11,
          3,
          1,
          1,
          1,
          1
         ],
         "yaxis": "y"
        },
        {
         "alignmentgroup": "True",
         "bingroup": "x",
         "histfunc": "sum",
         "hovertemplate": "catetory=Spreadsheet based BI<br>company.companyName=%{x}<br>sum of company._id_size=%{y}<extra></extra>",
         "legendgroup": "Spreadsheet based BI",
         "marker": {
          "color": "#EF553B",
          "pattern": {
           "shape": ""
          }
         },
         "name": "Spreadsheet based BI",
         "offsetgroup": "Spreadsheet based BI",
         "orientation": "v",
         "showlegend": true,
         "type": "histogram",
         "x": [
          "Sigma",
          "Rows.com",
          "Canvas",
          "Sigma",
          "Rows.com"
         ],
         "xaxis": "x",
         "y": [
          7,
          5,
          2,
          2,
          2
         ],
         "yaxis": "y"
        },
        {
         "alignmentgroup": "True",
         "bingroup": "x",
         "histfunc": "sum",
         "hovertemplate": "catetory=Metrics Store<br>company.companyName=%{x}<br>sum of company._id_size=%{y}<extra></extra>",
         "legendgroup": "Metrics Store",
         "marker": {
          "color": "#00cc96",
          "pattern": {
           "shape": ""
          }
         },
         "name": "Metrics Store",
         "offsetgroup": "Metrics Store",
         "orientation": "v",
         "showlegend": true,
         "type": "histogram",
         "x": [
          "Cube",
          "Lightdash",
          "GoodData",
          "Transform Data",
          "Cube",
          "Transform Data"
         ],
         "xaxis": "x",
         "y": [
          7,
          3,
          1,
          1,
          1,
          1
         ],
         "yaxis": "y"
        },
        {
         "alignmentgroup": "True",
         "bingroup": "x",
         "histfunc": "sum",
         "hovertemplate": "catetory=Data Cataloging<br>company.companyName=%{x}<br>sum of company._id_size=%{y}<extra></extra>",
         "legendgroup": "Data Cataloging",
         "marker": {
          "color": "#ab63fa",
          "pattern": {
           "shape": ""
          }
         },
         "name": "Data Cataloging",
         "offsetgroup": "Data Cataloging",
         "orientation": "v",
         "showlegend": true,
         "type": "histogram",
         "x": [
          "Qlikview",
          "Secoda",
          "Alteryx",
          "Cloudera",
          "Google Data Catalog",
          "data.world ",
          "Alation",
          "Alteryx",
          "Collibra",
          "Data Hub",
          "Data Hub",
          "Stemma AI",
          "Google Data Catalog",
          "Alation",
          "Atlan",
          "Dataedo",
          "Datakin",
          "Erwin By Quest",
          "Marquez",
          "Metaphor",
          "Qlikview",
          "Secoda",
          "Select Star",
          "Stemma AI",
          "Tableau Data Catalog",
          "informatica",
          "informatica",
          "Castor",
          "Atlan",
          "Apache Atlas",
          "Amundsen"
         ],
         "xaxis": "x",
         "y": [
          6,
          5,
          5,
          5,
          3,
          3,
          2,
          2,
          2,
          2,
          2,
          2,
          2,
          2,
          1,
          1,
          1,
          1,
          1,
          1,
          1,
          1,
          1,
          1,
          1,
          1,
          1,
          1,
          1,
          1,
          1
         ],
         "yaxis": "y"
        },
        {
         "alignmentgroup": "True",
         "bingroup": "x",
         "histfunc": "sum",
         "hovertemplate": "catetory=Data Quality Monitoring<br>company.companyName=%{x}<br>sum of company._id_size=%{y}<extra></extra>",
         "legendgroup": "Data Quality Monitoring",
         "marker": {
          "color": "#FFA15A",
          "pattern": {
           "shape": ""
          }
         },
         "name": "Data Quality Monitoring",
         "offsetgroup": "Data Quality Monitoring",
         "orientation": "v",
         "showlegend": true,
         "type": "histogram",
         "x": [
          "Monte Carlo Data",
          "Spectacles",
          "Great Expectations",
          "Great Expectations",
          "Monte Carlo Data",
          "Datafold",
          "Databand",
          "ClueDin",
          "Anomalo",
          "Anomalo",
          "Bigeye",
          "Elementary Data",
          "Metaplane",
          "PipeRider"
         ],
         "xaxis": "x",
         "y": [
          6,
          4,
          4,
          3,
          2,
          2,
          2,
          2,
          2,
          2,
          1,
          1,
          1,
          1
         ],
         "yaxis": "y"
        },
        {
         "alignmentgroup": "True",
         "bingroup": "x",
         "histfunc": "sum",
         "hovertemplate": "catetory=Product Analytics<br>company.companyName=%{x}<br>sum of company._id_size=%{y}<extra></extra>",
         "legendgroup": "Product Analytics",
         "marker": {
          "color": "#19d3f3",
          "pattern": {
           "shape": ""
          }
         },
         "name": "Product Analytics",
         "offsetgroup": "Product Analytics",
         "orientation": "v",
         "showlegend": true,
         "type": "histogram",
         "x": [
          "Mixpanel",
          "Avo",
          "Heap",
          "Mixpanel",
          "PostHog",
          "Avo",
          "Pendo",
          "Pendo",
          "June",
          "Indicative",
          "Heap"
         ],
         "xaxis": "x",
         "y": [
          6,
          4,
          2,
          2,
          2,
          1,
          1,
          1,
          1,
          1,
          1
         ],
         "yaxis": "y"
        },
        {
         "alignmentgroup": "True",
         "bingroup": "x",
         "histfunc": "sum",
         "hovertemplate": "catetory=Data Discovery<br>company.companyName=%{x}<br>sum of company._id_size=%{y}<extra></extra>",
         "legendgroup": "Data Discovery",
         "marker": {
          "color": "#FF6692",
          "pattern": {
           "shape": ""
          }
         },
         "name": "Data Discovery",
         "offsetgroup": "Data Discovery",
         "orientation": "v",
         "showlegend": true,
         "type": "histogram",
         "x": [
          "Alteryx",
          "Secoda",
          "Google cloud data catalog & discovery",
          "Stemma AI",
          "Data Hub",
          "Data Hub",
          "Collibra",
          "Alteryx",
          "Alation",
          "Alation",
          "Amundsen",
          "Atlan",
          "Atlan",
          "Castor",
          "Marquez",
          "Metaphor",
          "Secoda",
          "Select Star",
          "Stemma AI"
         ],
         "xaxis": "x",
         "y": [
          5,
          5,
          3,
          2,
          2,
          2,
          2,
          2,
          2,
          2,
          1,
          1,
          1,
          1,
          1,
          1,
          1,
          1,
          1
         ],
         "yaxis": "y"
        },
        {
         "alignmentgroup": "True",
         "bingroup": "x",
         "histfunc": "sum",
         "hovertemplate": "catetory=Augmented Analytics<br>company.companyName=%{x}<br>sum of company._id_size=%{y}<extra></extra>",
         "legendgroup": "Augmented Analytics",
         "marker": {
          "color": "#B6E880",
          "pattern": {
           "shape": ""
          }
         },
         "name": "Augmented Analytics",
         "offsetgroup": "Augmented Analytics",
         "orientation": "v",
         "showlegend": true,
         "type": "histogram",
         "x": [
          "ThoughtSpot",
          "Sisu Data",
          "Sisu Data",
          "Yellowfinbi",
          "Adverity.com",
          "Tellius",
          "ThoughtSpot"
         ],
         "xaxis": "x",
         "y": [
          5,
          3,
          3,
          2,
          1,
          1,
          1
         ],
         "yaxis": "y"
        },
        {
         "alignmentgroup": "True",
         "bingroup": "x",
         "histfunc": "sum",
         "hovertemplate": "catetory=Data Apps<br>company.companyName=%{x}<br>sum of company._id_size=%{y}<extra></extra>",
         "legendgroup": "Data Apps",
         "marker": {
          "color": "#FF97FF",
          "pattern": {
           "shape": ""
          }
         },
         "name": "Data Apps",
         "offsetgroup": "Data Apps",
         "orientation": "v",
         "showlegend": true,
         "type": "histogram",
         "x": [
          "Streamlit"
         ],
         "xaxis": "x",
         "y": [
          5
         ],
         "yaxis": "y"
        },
        {
         "alignmentgroup": "True",
         "bingroup": "x",
         "histfunc": "sum",
         "hovertemplate": "catetory=Data Privacy and Governance<br>company.companyName=%{x}<br>sum of company._id_size=%{y}<extra></extra>",
         "legendgroup": "Data Privacy and Governance",
         "marker": {
          "color": "#FECB52",
          "pattern": {
           "shape": ""
          }
         },
         "name": "Data Privacy and Governance",
         "offsetgroup": "Data Privacy and Governance",
         "orientation": "v",
         "showlegend": true,
         "type": "histogram",
         "x": [
          "Avo",
          "Collibra",
          "Talend",
          "Privacera",
          "Privacy Dynamics",
          "Avo",
          "Castor",
          "Okera"
         ],
         "xaxis": "x",
         "y": [
          4,
          2,
          2,
          2,
          1,
          1,
          1,
          1
         ],
         "yaxis": "y"
        },
        {
         "alignmentgroup": "True",
         "bingroup": "x",
         "histfunc": "sum",
         "hovertemplate": "catetory=Feature Store<br>company.companyName=%{x}<br>sum of company._id_size=%{y}<extra></extra>",
         "legendgroup": "Feature Store",
         "marker": {
          "color": "#636efa",
          "pattern": {
           "shape": ""
          }
         },
         "name": "Feature Store",
         "offsetgroup": "Feature Store",
         "orientation": "v",
         "showlegend": true,
         "type": "histogram",
         "x": [
          "iguazio",
          "Molecula",
          "Tecton",
          "Continual",
          "Feast"
         ],
         "xaxis": "x",
         "y": [
          3,
          3,
          2,
          1,
          1
         ],
         "yaxis": "y"
        },
        {
         "alignmentgroup": "True",
         "bingroup": "x",
         "histfunc": "sum",
         "hovertemplate": "catetory=Operational Analytics <br>company.companyName=%{x}<br>sum of company._id_size=%{y}<extra></extra>",
         "legendgroup": "Operational Analytics ",
         "marker": {
          "color": "#EF553B",
          "pattern": {
           "shape": ""
          }
         },
         "name": "Operational Analytics ",
         "offsetgroup": "Operational Analytics ",
         "orientation": "v",
         "showlegend": true,
         "type": "histogram",
         "x": [
          "Variance",
          "Netspring",
          "Logic Loop"
         ],
         "xaxis": "x",
         "y": [
          3,
          3,
          1
         ],
         "yaxis": "y"
        },
        {
         "alignmentgroup": "True",
         "bingroup": "x",
         "histfunc": "sum",
         "hovertemplate": "catetory=Managed Data Stack<br>company.companyName=%{x}<br>sum of company._id_size=%{y}<extra></extra>",
         "legendgroup": "Managed Data Stack",
         "marker": {
          "color": "#00cc96",
          "pattern": {
           "shape": ""
          }
         },
         "name": "Managed Data Stack",
         "offsetgroup": "Managed Data Stack",
         "orientation": "v",
         "showlegend": true,
         "type": "histogram",
         "x": [
          "Keboola",
          "y42",
          "DoubleCloud",
          "Selfr",
          "Mozart Data"
         ],
         "xaxis": "x",
         "y": [
          3,
          2,
          1,
          1,
          1
         ],
         "yaxis": "y"
        },
        {
         "alignmentgroup": "True",
         "bingroup": "x",
         "histfunc": "sum",
         "hovertemplate": "catetory=PLG CRM<br>company.companyName=%{x}<br>sum of company._id_size=%{y}<extra></extra>",
         "legendgroup": "PLG CRM",
         "marker": {
          "color": "#ab63fa",
          "pattern": {
           "shape": ""
          }
         },
         "name": "PLG CRM",
         "offsetgroup": "PLG CRM",
         "orientation": "v",
         "showlegend": true,
         "type": "histogram",
         "x": [
          "Variance",
          "Correlated"
         ],
         "xaxis": "x",
         "y": [
          3,
          2
         ],
         "yaxis": "y"
        },
        {
         "alignmentgroup": "True",
         "bingroup": "x",
         "histfunc": "sum",
         "hovertemplate": "catetory=No code automation<br>company.companyName=%{x}<br>sum of company._id_size=%{y}<extra></extra>",
         "legendgroup": "No code automation",
         "marker": {
          "color": "#FFA15A",
          "pattern": {
           "shape": ""
          }
         },
         "name": "No code automation",
         "offsetgroup": "No code automation",
         "orientation": "v",
         "showlegend": true,
         "type": "histogram",
         "x": [
          "Integromat",
          "Kissflow",
          "Integrately",
          "Tray.io",
          "Celigo",
          "Integromat"
         ],
         "xaxis": "x",
         "y": [
          3,
          1,
          1,
          1,
          1,
          1
         ],
         "yaxis": "y"
        },
        {
         "alignmentgroup": "True",
         "bingroup": "x",
         "histfunc": "sum",
         "hovertemplate": "catetory=Change Data Capture<br>company.companyName=%{x}<br>sum of company._id_size=%{y}<extra></extra>",
         "legendgroup": "Change Data Capture",
         "marker": {
          "color": "#19d3f3",
          "pattern": {
           "shape": ""
          }
         },
         "name": "Change Data Capture",
         "offsetgroup": "Change Data Capture",
         "orientation": "v",
         "showlegend": true,
         "type": "histogram",
         "x": [
          "Debezium",
          "Debezium",
          "HVR"
         ],
         "xaxis": "x",
         "y": [
          3,
          1,
          1
         ],
         "yaxis": "y"
        },
        {
         "alignmentgroup": "True",
         "bingroup": "x",
         "histfunc": "sum",
         "hovertemplate": "catetory=Synthetic Data<br>company.companyName=%{x}<br>sum of company._id_size=%{y}<extra></extra>",
         "legendgroup": "Synthetic Data",
         "marker": {
          "color": "#FF6692",
          "pattern": {
           "shape": ""
          }
         },
         "name": "Synthetic Data",
         "offsetgroup": "Synthetic Data",
         "orientation": "v",
         "showlegend": true,
         "type": "histogram",
         "x": [
          "Datomize",
          "Hazy",
          "edge case"
         ],
         "xaxis": "x",
         "y": [
          3,
          1,
          1
         ],
         "yaxis": "y"
        },
        {
         "alignmentgroup": "True",
         "bingroup": "x",
         "histfunc": "sum",
         "hovertemplate": "catetory=Business Reliability/Observability<br>company.companyName=%{x}<br>sum of company._id_size=%{y}<extra></extra>",
         "legendgroup": "Business Reliability/Observability",
         "marker": {
          "color": "#B6E880",
          "pattern": {
           "shape": ""
          }
         },
         "name": "Business Reliability/Observability",
         "offsetgroup": "Business Reliability/Observability",
         "orientation": "v",
         "showlegend": true,
         "type": "histogram",
         "x": [
          "Quantive Signals"
         ],
         "xaxis": "x",
         "y": [
          2
         ],
         "yaxis": "y"
        },
        {
         "alignmentgroup": "True",
         "bingroup": "x",
         "histfunc": "sum",
         "hovertemplate": "catetory=Data Mesh<br>company.companyName=%{x}<br>sum of company._id_size=%{y}<extra></extra>",
         "legendgroup": "Data Mesh",
         "marker": {
          "color": "#FF97FF",
          "pattern": {
           "shape": ""
          }
         },
         "name": "Data Mesh",
         "offsetgroup": "Data Mesh",
         "orientation": "v",
         "showlegend": true,
         "type": "histogram",
         "x": [
          "Starburst",
          "Nexla"
         ],
         "xaxis": "x",
         "y": [
          2,
          2
         ],
         "yaxis": "y"
        }
       ],
       "layout": {
        "barmode": "relative",
        "legend": {
         "title": {
          "text": "catetory"
         },
         "tracegroupgap": 0
        },
        "margin": {
         "t": 60
        },
        "template": {
         "data": {
          "bar": [
           {
            "error_x": {
             "color": "#2a3f5f"
            },
            "error_y": {
             "color": "#2a3f5f"
            },
            "marker": {
             "line": {
              "color": "#E5ECF6",
              "width": 0.5
             },
             "pattern": {
              "fillmode": "overlay",
              "size": 10,
              "solidity": 0.2
             }
            },
            "type": "bar"
           }
          ],
          "barpolar": [
           {
            "marker": {
             "line": {
              "color": "#E5ECF6",
              "width": 0.5
             },
             "pattern": {
              "fillmode": "overlay",
              "size": 10,
              "solidity": 0.2
             }
            },
            "type": "barpolar"
           }
          ],
          "carpet": [
           {
            "aaxis": {
             "endlinecolor": "#2a3f5f",
             "gridcolor": "white",
             "linecolor": "white",
             "minorgridcolor": "white",
             "startlinecolor": "#2a3f5f"
            },
            "baxis": {
             "endlinecolor": "#2a3f5f",
             "gridcolor": "white",
             "linecolor": "white",
             "minorgridcolor": "white",
             "startlinecolor": "#2a3f5f"
            },
            "type": "carpet"
           }
          ],
          "choropleth": [
           {
            "colorbar": {
             "outlinewidth": 0,
             "ticks": ""
            },
            "type": "choropleth"
           }
          ],
          "contour": [
           {
            "colorbar": {
             "outlinewidth": 0,
             "ticks": ""
            },
            "colorscale": [
             [
              0,
              "#0d0887"
             ],
             [
              0.1111111111111111,
              "#46039f"
             ],
             [
              0.2222222222222222,
              "#7201a8"
             ],
             [
              0.3333333333333333,
              "#9c179e"
             ],
             [
              0.4444444444444444,
              "#bd3786"
             ],
             [
              0.5555555555555556,
              "#d8576b"
             ],
             [
              0.6666666666666666,
              "#ed7953"
             ],
             [
              0.7777777777777778,
              "#fb9f3a"
             ],
             [
              0.8888888888888888,
              "#fdca26"
             ],
             [
              1,
              "#f0f921"
             ]
            ],
            "type": "contour"
           }
          ],
          "contourcarpet": [
           {
            "colorbar": {
             "outlinewidth": 0,
             "ticks": ""
            },
            "type": "contourcarpet"
           }
          ],
          "heatmap": [
           {
            "colorbar": {
             "outlinewidth": 0,
             "ticks": ""
            },
            "colorscale": [
             [
              0,
              "#0d0887"
             ],
             [
              0.1111111111111111,
              "#46039f"
             ],
             [
              0.2222222222222222,
              "#7201a8"
             ],
             [
              0.3333333333333333,
              "#9c179e"
             ],
             [
              0.4444444444444444,
              "#bd3786"
             ],
             [
              0.5555555555555556,
              "#d8576b"
             ],
             [
              0.6666666666666666,
              "#ed7953"
             ],
             [
              0.7777777777777778,
              "#fb9f3a"
             ],
             [
              0.8888888888888888,
              "#fdca26"
             ],
             [
              1,
              "#f0f921"
             ]
            ],
            "type": "heatmap"
           }
          ],
          "heatmapgl": [
           {
            "colorbar": {
             "outlinewidth": 0,
             "ticks": ""
            },
            "colorscale": [
             [
              0,
              "#0d0887"
             ],
             [
              0.1111111111111111,
              "#46039f"
             ],
             [
              0.2222222222222222,
              "#7201a8"
             ],
             [
              0.3333333333333333,
              "#9c179e"
             ],
             [
              0.4444444444444444,
              "#bd3786"
             ],
             [
              0.5555555555555556,
              "#d8576b"
             ],
             [
              0.6666666666666666,
              "#ed7953"
             ],
             [
              0.7777777777777778,
              "#fb9f3a"
             ],
             [
              0.8888888888888888,
              "#fdca26"
             ],
             [
              1,
              "#f0f921"
             ]
            ],
            "type": "heatmapgl"
           }
          ],
          "histogram": [
           {
            "marker": {
             "pattern": {
              "fillmode": "overlay",
              "size": 10,
              "solidity": 0.2
             }
            },
            "type": "histogram"
           }
          ],
          "histogram2d": [
           {
            "colorbar": {
             "outlinewidth": 0,
             "ticks": ""
            },
            "colorscale": [
             [
              0,
              "#0d0887"
             ],
             [
              0.1111111111111111,
              "#46039f"
             ],
             [
              0.2222222222222222,
              "#7201a8"
             ],
             [
              0.3333333333333333,
              "#9c179e"
             ],
             [
              0.4444444444444444,
              "#bd3786"
             ],
             [
              0.5555555555555556,
              "#d8576b"
             ],
             [
              0.6666666666666666,
              "#ed7953"
             ],
             [
              0.7777777777777778,
              "#fb9f3a"
             ],
             [
              0.8888888888888888,
              "#fdca26"
             ],
             [
              1,
              "#f0f921"
             ]
            ],
            "type": "histogram2d"
           }
          ],
          "histogram2dcontour": [
           {
            "colorbar": {
             "outlinewidth": 0,
             "ticks": ""
            },
            "colorscale": [
             [
              0,
              "#0d0887"
             ],
             [
              0.1111111111111111,
              "#46039f"
             ],
             [
              0.2222222222222222,
              "#7201a8"
             ],
             [
              0.3333333333333333,
              "#9c179e"
             ],
             [
              0.4444444444444444,
              "#bd3786"
             ],
             [
              0.5555555555555556,
              "#d8576b"
             ],
             [
              0.6666666666666666,
              "#ed7953"
             ],
             [
              0.7777777777777778,
              "#fb9f3a"
             ],
             [
              0.8888888888888888,
              "#fdca26"
             ],
             [
              1,
              "#f0f921"
             ]
            ],
            "type": "histogram2dcontour"
           }
          ],
          "mesh3d": [
           {
            "colorbar": {
             "outlinewidth": 0,
             "ticks": ""
            },
            "type": "mesh3d"
           }
          ],
          "parcoords": [
           {
            "line": {
             "colorbar": {
              "outlinewidth": 0,
              "ticks": ""
             }
            },
            "type": "parcoords"
           }
          ],
          "pie": [
           {
            "automargin": true,
            "type": "pie"
           }
          ],
          "scatter": [
           {
            "fillpattern": {
             "fillmode": "overlay",
             "size": 10,
             "solidity": 0.2
            },
            "type": "scatter"
           }
          ],
          "scatter3d": [
           {
            "line": {
             "colorbar": {
              "outlinewidth": 0,
              "ticks": ""
             }
            },
            "marker": {
             "colorbar": {
              "outlinewidth": 0,
              "ticks": ""
             }
            },
            "type": "scatter3d"
           }
          ],
          "scattercarpet": [
           {
            "marker": {
             "colorbar": {
              "outlinewidth": 0,
              "ticks": ""
             }
            },
            "type": "scattercarpet"
           }
          ],
          "scattergeo": [
           {
            "marker": {
             "colorbar": {
              "outlinewidth": 0,
              "ticks": ""
             }
            },
            "type": "scattergeo"
           }
          ],
          "scattergl": [
           {
            "marker": {
             "colorbar": {
              "outlinewidth": 0,
              "ticks": ""
             }
            },
            "type": "scattergl"
           }
          ],
          "scattermapbox": [
           {
            "marker": {
             "colorbar": {
              "outlinewidth": 0,
              "ticks": ""
             }
            },
            "type": "scattermapbox"
           }
          ],
          "scatterpolar": [
           {
            "marker": {
             "colorbar": {
              "outlinewidth": 0,
              "ticks": ""
             }
            },
            "type": "scatterpolar"
           }
          ],
          "scatterpolargl": [
           {
            "marker": {
             "colorbar": {
              "outlinewidth": 0,
              "ticks": ""
             }
            },
            "type": "scatterpolargl"
           }
          ],
          "scatterternary": [
           {
            "marker": {
             "colorbar": {
              "outlinewidth": 0,
              "ticks": ""
             }
            },
            "type": "scatterternary"
           }
          ],
          "surface": [
           {
            "colorbar": {
             "outlinewidth": 0,
             "ticks": ""
            },
            "colorscale": [
             [
              0,
              "#0d0887"
             ],
             [
              0.1111111111111111,
              "#46039f"
             ],
             [
              0.2222222222222222,
              "#7201a8"
             ],
             [
              0.3333333333333333,
              "#9c179e"
             ],
             [
              0.4444444444444444,
              "#bd3786"
             ],
             [
              0.5555555555555556,
              "#d8576b"
             ],
             [
              0.6666666666666666,
              "#ed7953"
             ],
             [
              0.7777777777777778,
              "#fb9f3a"
             ],
             [
              0.8888888888888888,
              "#fdca26"
             ],
             [
              1,
              "#f0f921"
             ]
            ],
            "type": "surface"
           }
          ],
          "table": [
           {
            "cells": {
             "fill": {
              "color": "#EBF0F8"
             },
             "line": {
              "color": "white"
             }
            },
            "header": {
             "fill": {
              "color": "#C8D4E3"
             },
             "line": {
              "color": "white"
             }
            },
            "type": "table"
           }
          ]
         },
         "layout": {
          "annotationdefaults": {
           "arrowcolor": "#2a3f5f",
           "arrowhead": 0,
           "arrowwidth": 1
          },
          "autotypenumbers": "strict",
          "coloraxis": {
           "colorbar": {
            "outlinewidth": 0,
            "ticks": ""
           }
          },
          "colorscale": {
           "diverging": [
            [
             0,
             "#8e0152"
            ],
            [
             0.1,
             "#c51b7d"
            ],
            [
             0.2,
             "#de77ae"
            ],
            [
             0.3,
             "#f1b6da"
            ],
            [
             0.4,
             "#fde0ef"
            ],
            [
             0.5,
             "#f7f7f7"
            ],
            [
             0.6,
             "#e6f5d0"
            ],
            [
             0.7,
             "#b8e186"
            ],
            [
             0.8,
             "#7fbc41"
            ],
            [
             0.9,
             "#4d9221"
            ],
            [
             1,
             "#276419"
            ]
           ],
           "sequential": [
            [
             0,
             "#0d0887"
            ],
            [
             0.1111111111111111,
             "#46039f"
            ],
            [
             0.2222222222222222,
             "#7201a8"
            ],
            [
             0.3333333333333333,
             "#9c179e"
            ],
            [
             0.4444444444444444,
             "#bd3786"
            ],
            [
             0.5555555555555556,
             "#d8576b"
            ],
            [
             0.6666666666666666,
             "#ed7953"
            ],
            [
             0.7777777777777778,
             "#fb9f3a"
            ],
            [
             0.8888888888888888,
             "#fdca26"
            ],
            [
             1,
             "#f0f921"
            ]
           ],
           "sequentialminus": [
            [
             0,
             "#0d0887"
            ],
            [
             0.1111111111111111,
             "#46039f"
            ],
            [
             0.2222222222222222,
             "#7201a8"
            ],
            [
             0.3333333333333333,
             "#9c179e"
            ],
            [
             0.4444444444444444,
             "#bd3786"
            ],
            [
             0.5555555555555556,
             "#d8576b"
            ],
            [
             0.6666666666666666,
             "#ed7953"
            ],
            [
             0.7777777777777778,
             "#fb9f3a"
            ],
            [
             0.8888888888888888,
             "#fdca26"
            ],
            [
             1,
             "#f0f921"
            ]
           ]
          },
          "colorway": [
           "#636efa",
           "#EF553B",
           "#00cc96",
           "#ab63fa",
           "#FFA15A",
           "#19d3f3",
           "#FF6692",
           "#B6E880",
           "#FF97FF",
           "#FECB52"
          ],
          "font": {
           "color": "#2a3f5f"
          },
          "geo": {
           "bgcolor": "white",
           "lakecolor": "white",
           "landcolor": "#E5ECF6",
           "showlakes": true,
           "showland": true,
           "subunitcolor": "white"
          },
          "hoverlabel": {
           "align": "left"
          },
          "hovermode": "closest",
          "mapbox": {
           "style": "light"
          },
          "paper_bgcolor": "white",
          "plot_bgcolor": "#E5ECF6",
          "polar": {
           "angularaxis": {
            "gridcolor": "white",
            "linecolor": "white",
            "ticks": ""
           },
           "bgcolor": "#E5ECF6",
           "radialaxis": {
            "gridcolor": "white",
            "linecolor": "white",
            "ticks": ""
           }
          },
          "scene": {
           "xaxis": {
            "backgroundcolor": "#E5ECF6",
            "gridcolor": "white",
            "gridwidth": 2,
            "linecolor": "white",
            "showbackground": true,
            "ticks": "",
            "zerolinecolor": "white"
           },
           "yaxis": {
            "backgroundcolor": "#E5ECF6",
            "gridcolor": "white",
            "gridwidth": 2,
            "linecolor": "white",
            "showbackground": true,
            "ticks": "",
            "zerolinecolor": "white"
           },
           "zaxis": {
            "backgroundcolor": "#E5ECF6",
            "gridcolor": "white",
            "gridwidth": 2,
            "linecolor": "white",
            "showbackground": true,
            "ticks": "",
            "zerolinecolor": "white"
           }
          },
          "shapedefaults": {
           "line": {
            "color": "#2a3f5f"
           }
          },
          "ternary": {
           "aaxis": {
            "gridcolor": "white",
            "linecolor": "white",
            "ticks": ""
           },
           "baxis": {
            "gridcolor": "white",
            "linecolor": "white",
            "ticks": ""
           },
           "bgcolor": "#E5ECF6",
           "caxis": {
            "gridcolor": "white",
            "linecolor": "white",
            "ticks": ""
           }
          },
          "title": {
           "x": 0.05
          },
          "xaxis": {
           "automargin": true,
           "gridcolor": "white",
           "linecolor": "white",
           "ticks": "",
           "title": {
            "standoff": 15
           },
           "zerolinecolor": "white",
           "zerolinewidth": 2
          },
          "yaxis": {
           "automargin": true,
           "gridcolor": "white",
           "linecolor": "white",
           "ticks": "",
           "title": {
            "standoff": 15
           },
           "zerolinecolor": "white",
           "zerolinewidth": 2
          }
         }
        },
        "xaxis": {
         "anchor": "y",
         "domain": [
          0,
          1
         ],
         "title": {
          "text": "company.companyName"
         }
        },
        "yaxis": {
         "anchor": "x",
         "domain": [
          0,
          1
         ],
         "title": {
          "text": "sum of company._id_size"
         }
        }
       }
      },
      "text/html": [
       "<div>                            <div id=\"a924a293-eb12-4961-9906-a5ad8134e184\" class=\"plotly-graph-div\" style=\"height:525px; width:100%;\"></div>            <script type=\"text/javascript\">                require([\"plotly\"], function(Plotly) {                    window.PLOTLYENV=window.PLOTLYENV || {};                                    if (document.getElementById(\"a924a293-eb12-4961-9906-a5ad8134e184\")) {                    Plotly.newPlot(                        \"a924a293-eb12-4961-9906-a5ad8134e184\",                        [{\"alignmentgroup\":\"True\",\"bingroup\":\"x\",\"histfunc\":\"sum\",\"hovertemplate\":\"catetory=Data Modelling and Transformation\\u003cbr\\u003ecompany.companyName=%{x}\\u003cbr\\u003esum of company._id_size=%{y}\\u003cextra\\u003e\\u003c\\u002fextra\\u003e\",\"legendgroup\":\"Data Modelling and Transformation\",\"marker\":{\"color\":\"#636efa\",\"pattern\":{\"shape\":\"\"}},\"name\":\"Data Modelling and Transformation\",\"offsetgroup\":\"Data Modelling and Transformation\",\"orientation\":\"v\",\"showlegend\":true,\"x\":[\"dbt\",\"dbt\",\"Apache Spark\",\"Apache Spark\",\"AWS Athena\",\"Dataform\",\"AWS Athena\",\"Rivery.io\",\"Dataform\",\"Datameer\",\"Rivery.io\",\"Upsolver\"],\"xaxis\":\"x\",\"y\":[132,86,18,11,8,3,3,2,1,1,1,1],\"yaxis\":\"y\",\"type\":\"histogram\"},{\"alignmentgroup\":\"True\",\"bingroup\":\"x\",\"histfunc\":\"sum\",\"hovertemplate\":\"catetory=Data Warehouses\\u003cbr\\u003ecompany.companyName=%{x}\\u003cbr\\u003esum of company._id_size=%{y}\\u003cextra\\u003e\\u003c\\u002fextra\\u003e\",\"legendgroup\":\"Data Warehouses\",\"marker\":{\"color\":\"#EF553B\",\"pattern\":{\"shape\":\"\"}},\"name\":\"Data Warehouses\",\"offsetgroup\":\"Data Warehouses\",\"orientation\":\"v\",\"showlegend\":true,\"x\":[\"Snowflake\",\"Snowflake\",\"Google BigQuery\",\"Redshift\",\"Google BigQuery\",\"Redshift\",\"Databricks\",\"Databricks\",\"Vertica\",\"Hive\",\"Oracle\",\"Tera data\",\"Azure Synapse Analytics\",\"Firebolt\",\"Oracle\",\"SAP business warehouse\",\"StarRocks\",\"StarRocks\",\"Upsolver\",\"Vertica\",\"Hive\",\"Dremio\",\"Azure Synapse Analytics\"],\"xaxis\":\"x\",\"y\":[92,51,44,43,32,29,25,18,5,4,3,3,2,2,1,1,1,1,1,1,1,1,1],\"yaxis\":\"y\",\"type\":\"histogram\"},{\"alignmentgroup\":\"True\",\"bingroup\":\"x\",\"histfunc\":\"sum\",\"hovertemplate\":\"catetory=Business Intelligence (BI)\\u003cbr\\u003ecompany.companyName=%{x}\\u003cbr\\u003esum of company._id_size=%{y}\\u003cextra\\u003e\\u003c\\u002fextra\\u003e\",\"legendgroup\":\"Business Intelligence (BI)\",\"marker\":{\"color\":\"#00cc96\",\"pattern\":{\"shape\":\"\"}},\"name\":\"Business Intelligence (BI)\",\"offsetgroup\":\"Business Intelligence (BI)\",\"orientation\":\"v\",\"showlegend\":true,\"x\":[\"Looker\",\"Tableau\",\"Looker\",\"Tableau\",\"Metabase\",\"Mode\",\"Metabase\",\"Superset\",\"Power BI\",\"Power BI\",\"Mode\",\"Sigma\",\"Salesforce Einstein Analytics\",\"Microstrategy\",\"Qlikview\",\"Superset\",\"Redash\",\"Lightdash\",\"Redash\",\"Domo\",\"y42\",\"Sisense\",\"Sisense\",\"Microstrategy\",\"Glean\",\"Sigma\",\"Adverity.com\",\"Amazon Quick Sight\",\"CleverMaps\",\"Cluvio\",\"GoodData\",\"Holistics.io\",\"Holistics.io\",\"Qlikview\",\"Salesforce Einstein Analytics\"],\"xaxis\":\"x\",\"y\":[80,57,38,25,16,12,11,10,10,8,7,7,7,7,6,5,4,3,3,3,2,2,2,2,2,2,1,1,1,1,1,1,1,1,1],\"yaxis\":\"y\",\"type\":\"histogram\"},{\"alignmentgroup\":\"True\",\"bingroup\":\"x\",\"histfunc\":\"sum\",\"hovertemplate\":\"catetory=ETL Tools\\u003cbr\\u003ecompany.companyName=%{x}\\u003cbr\\u003esum of company._id_size=%{y}\\u003cextra\\u003e\\u003c\\u002fextra\\u003e\",\"legendgroup\":\"ETL Tools\",\"marker\":{\"color\":\"#ab63fa\",\"pattern\":{\"shape\":\"\"}},\"name\":\"ETL Tools\",\"offsetgroup\":\"ETL Tools\",\"orientation\":\"v\",\"showlegend\":true,\"x\":[\"Fivetran\",\"Fivetran\",\"Stitch\",\"Airbyte\",\"Stitch\",\"AWS Glue\",\"Airbyte\",\"Matillion\",\"Rudderstack\",\"Rudderstack\",\"Meltano\",\"AWS Glue\",\"Azure data factory\",\"Hevo Data\",\"Matillion\",\"Meltano\",\"Singer\",\"Rivery.io\",\"StreamSets\",\"Funnel.io\",\"Talend\",\"Data Channel\",\"Supermetrics\",\"Supermetrics\",\"informatica\",\"informatica\",\"Rivery.io\",\"Popsink\",\"Alooma\",\"Azure data factory\",\"Data Channel\",\"Dataddo\",\"Funnel.io\",\"Hevo Data\",\"Indicative\",\"Kleene.ai\",\"Metorikku\"],\"xaxis\":\"x\",\"y\":[69,52,24,15,15,9,9,5,5,5,4,4,4,4,3,3,3,2,2,2,2,2,1,1,1,1,1,1,1,1,1,1,1,1,1,1,1],\"yaxis\":\"y\",\"type\":\"histogram\"},{\"alignmentgroup\":\"True\",\"bingroup\":\"x\",\"histfunc\":\"sum\",\"hovertemplate\":\"catetory=Workflow Orchestration\\u003cbr\\u003ecompany.companyName=%{x}\\u003cbr\\u003esum of company._id_size=%{y}\\u003cextra\\u003e\\u003c\\u002fextra\\u003e\",\"legendgroup\":\"Workflow Orchestration\",\"marker\":{\"color\":\"#FFA15A\",\"pattern\":{\"shape\":\"\"}},\"name\":\"Workflow Orchestration\",\"offsetgroup\":\"Workflow Orchestration\",\"orientation\":\"v\",\"showlegend\":true,\"x\":[\"Airflow\",\"Airflow\",\"Google Cloud Composer\",\"Astronomer\",\"Dagster\",\"Dagster\",\"Google Cloud Composer\",\"Rivery.io\",\"Argo\",\"Kubeflow\",\"Kubeflow\",\"Prefect\",\"Argo\",\"Flyte\",\"Rivery.io\",\"Apache Luigi\",\"Apache Luigi\",\"Prefect\",\"Kestra\",\"Apache Nifi\",\"Shipyard\"],\"xaxis\":\"x\",\"y\":[66,37,6,6,6,5,4,2,2,2,2,2,2,1,1,1,1,1,1,1,1],\"yaxis\":\"y\",\"type\":\"histogram\"},{\"alignmentgroup\":\"True\",\"bingroup\":\"x\",\"histfunc\":\"sum\",\"hovertemplate\":\"catetory=Data Lakes\\u003cbr\\u003ecompany.companyName=%{x}\\u003cbr\\u003esum of company._id_size=%{y}\\u003cextra\\u003e\\u003c\\u002fextra\\u003e\",\"legendgroup\":\"Data Lakes\",\"marker\":{\"color\":\"#19d3f3\",\"pattern\":{\"shape\":\"\"}},\"name\":\"Data Lakes\",\"offsetgroup\":\"Data Lakes\",\"orientation\":\"v\",\"showlegend\":true,\"x\":[\"AWS S3\",\"AWS S3\",\"Databricks\",\"Databricks\",\"Google Cloud Storage\",\"Azure Cloud Storage\",\"Google Cloud Storage\",\"Azure Cloud Storage\",\"Apache Hudi\",\"Delta.io\",\"Starburst\",\"Min.io\",\"Dremio\",\"Qubole\",\"Upsolver\"],\"xaxis\":\"x\",\"y\":[36,34,25,18,13,5,5,4,4,3,2,2,1,1,1],\"yaxis\":\"y\",\"type\":\"histogram\"},{\"alignmentgroup\":\"True\",\"bingroup\":\"x\",\"histfunc\":\"sum\",\"hovertemplate\":\"catetory=Event Tracking\\u003cbr\\u003ecompany.companyName=%{x}\\u003cbr\\u003esum of company._id_size=%{y}\\u003cextra\\u003e\\u003c\\u002fextra\\u003e\",\"legendgroup\":\"Event Tracking\",\"marker\":{\"color\":\"#FF6692\",\"pattern\":{\"shape\":\"\"}},\"name\":\"Event Tracking\",\"offsetgroup\":\"Event Tracking\",\"orientation\":\"v\",\"showlegend\":true,\"x\":[\"Segment\",\"Segment\",\"Snowplow\",\"Rudderstack\",\"Rudderstack\",\"Snowplow\"],\"xaxis\":\"x\",\"y\":[32,15,6,5,5,4],\"yaxis\":\"y\",\"type\":\"histogram\"},{\"alignmentgroup\":\"True\",\"bingroup\":\"x\",\"histfunc\":\"sum\",\"hovertemplate\":\"catetory=Customer Data Platform(CDP)\\u003cbr\\u003ecompany.companyName=%{x}\\u003cbr\\u003esum of company._id_size=%{y}\\u003cextra\\u003e\\u003c\\u002fextra\\u003e\",\"legendgroup\":\"Customer Data Platform(CDP)\",\"marker\":{\"color\":\"#B6E880\",\"pattern\":{\"shape\":\"\"}},\"name\":\"Customer Data Platform(CDP)\",\"offsetgroup\":\"Customer Data Platform(CDP)\",\"orientation\":\"v\",\"showlegend\":true,\"x\":[\"Segment\",\"Segment\",\"Rudderstack\",\"Rudderstack\",\"mparticle\",\"mparticle\",\"Iteratively\",\"Jitsu\",\"Simon\",\"Supergrain\",\"Tealium\"],\"xaxis\":\"x\",\"y\":[32,15,5,5,3,2,1,1,1,1,1],\"yaxis\":\"y\",\"type\":\"histogram\"},{\"alignmentgroup\":\"True\",\"bingroup\":\"x\",\"histfunc\":\"sum\",\"hovertemplate\":\"catetory=Reverse ETL Tools\\u003cbr\\u003ecompany.companyName=%{x}\\u003cbr\\u003esum of company._id_size=%{y}\\u003cextra\\u003e\\u003c\\u002fextra\\u003e\",\"legendgroup\":\"Reverse ETL Tools\",\"marker\":{\"color\":\"#FF97FF\",\"pattern\":{\"shape\":\"\"}},\"name\":\"Reverse ETL Tools\",\"offsetgroup\":\"Reverse ETL Tools\",\"orientation\":\"v\",\"showlegend\":true,\"x\":[\"Hightouch\",\"Hightouch\",\"Census\",\"Census\",\"Rudderstack\",\"Rudderstack\",\"Nexla\"],\"xaxis\":\"x\",\"y\":[22,8,7,7,5,5,2],\"yaxis\":\"y\",\"type\":\"histogram\"},{\"alignmentgroup\":\"True\",\"bingroup\":\"x\",\"histfunc\":\"sum\",\"hovertemplate\":\"catetory=Data Streaming\\u003cbr\\u003ecompany.companyName=%{x}\\u003cbr\\u003esum of company._id_size=%{y}\\u003cextra\\u003e\\u003c\\u002fextra\\u003e\",\"legendgroup\":\"Data Streaming\",\"marker\":{\"color\":\"#FECB52\",\"pattern\":{\"shape\":\"\"}},\"name\":\"Data Streaming\",\"offsetgroup\":\"Data Streaming\",\"orientation\":\"v\",\"showlegend\":true,\"x\":[\"Apache Kafka\",\"Apache Kafka\",\"AWS Kinesis\",\"AWS Kinesis\",\"Apache Flink\",\"Apache Flink\",\"Apache Storm\",\"Google Cloud Dataflow\",\"Materialize\",\"Beam\",\"Google Cloud Dataflow\",\"Confluent\",\"Confluent\",\"StreamSets\",\"Ververica\",\"KsqlDB\",\"Materialize\",\"Popsink\",\"Redpanda\",\"StreamNative\"],\"xaxis\":\"x\",\"y\":[21,21,16,12,8,5,5,4,2,2,2,2,2,2,1,1,1,1,1,1],\"yaxis\":\"y\",\"type\":\"histogram\"},{\"alignmentgroup\":\"True\",\"bingroup\":\"x\",\"histfunc\":\"sum\",\"hovertemplate\":\"catetory=Data Workspace\\u002f Collaboration\\u003cbr\\u003ecompany.companyName=%{x}\\u003cbr\\u003esum of company._id_size=%{y}\\u003cextra\\u003e\\u003c\\u002fextra\\u003e\",\"legendgroup\":\"Data Workspace\\u002f Collaboration\",\"marker\":{\"color\":\"#636efa\",\"pattern\":{\"shape\":\"\"}},\"name\":\"Data Workspace\\u002f Collaboration\",\"offsetgroup\":\"Data Workspace\\u002f Collaboration\",\"orientation\":\"v\",\"showlegend\":true,\"x\":[\"Hex\",\"Keboola\",\"Hex\",\"Hyperquery\",\"Noteable\",\"PopSQL\"],\"xaxis\":\"x\",\"y\":[11,3,1,1,1,1],\"yaxis\":\"y\",\"type\":\"histogram\"},{\"alignmentgroup\":\"True\",\"bingroup\":\"x\",\"histfunc\":\"sum\",\"hovertemplate\":\"catetory=Spreadsheet based BI\\u003cbr\\u003ecompany.companyName=%{x}\\u003cbr\\u003esum of company._id_size=%{y}\\u003cextra\\u003e\\u003c\\u002fextra\\u003e\",\"legendgroup\":\"Spreadsheet based BI\",\"marker\":{\"color\":\"#EF553B\",\"pattern\":{\"shape\":\"\"}},\"name\":\"Spreadsheet based BI\",\"offsetgroup\":\"Spreadsheet based BI\",\"orientation\":\"v\",\"showlegend\":true,\"x\":[\"Sigma\",\"Rows.com\",\"Canvas\",\"Sigma\",\"Rows.com\"],\"xaxis\":\"x\",\"y\":[7,5,2,2,2],\"yaxis\":\"y\",\"type\":\"histogram\"},{\"alignmentgroup\":\"True\",\"bingroup\":\"x\",\"histfunc\":\"sum\",\"hovertemplate\":\"catetory=Metrics Store\\u003cbr\\u003ecompany.companyName=%{x}\\u003cbr\\u003esum of company._id_size=%{y}\\u003cextra\\u003e\\u003c\\u002fextra\\u003e\",\"legendgroup\":\"Metrics Store\",\"marker\":{\"color\":\"#00cc96\",\"pattern\":{\"shape\":\"\"}},\"name\":\"Metrics Store\",\"offsetgroup\":\"Metrics Store\",\"orientation\":\"v\",\"showlegend\":true,\"x\":[\"Cube\",\"Lightdash\",\"GoodData\",\"Transform Data\",\"Cube\",\"Transform Data\"],\"xaxis\":\"x\",\"y\":[7,3,1,1,1,1],\"yaxis\":\"y\",\"type\":\"histogram\"},{\"alignmentgroup\":\"True\",\"bingroup\":\"x\",\"histfunc\":\"sum\",\"hovertemplate\":\"catetory=Data Cataloging\\u003cbr\\u003ecompany.companyName=%{x}\\u003cbr\\u003esum of company._id_size=%{y}\\u003cextra\\u003e\\u003c\\u002fextra\\u003e\",\"legendgroup\":\"Data Cataloging\",\"marker\":{\"color\":\"#ab63fa\",\"pattern\":{\"shape\":\"\"}},\"name\":\"Data Cataloging\",\"offsetgroup\":\"Data Cataloging\",\"orientation\":\"v\",\"showlegend\":true,\"x\":[\"Qlikview\",\"Secoda\",\"Alteryx\",\"Cloudera\",\"Google Data Catalog\",\"data.world \",\"Alation\",\"Alteryx\",\"Collibra\",\"Data Hub\",\"Data Hub\",\"Stemma AI\",\"Google Data Catalog\",\"Alation\",\"Atlan\",\"Dataedo\",\"Datakin\",\"Erwin By Quest\",\"Marquez\",\"Metaphor\",\"Qlikview\",\"Secoda\",\"Select Star\",\"Stemma AI\",\"Tableau Data Catalog\",\"informatica\",\"informatica\",\"Castor\",\"Atlan\",\"Apache Atlas\",\"Amundsen\"],\"xaxis\":\"x\",\"y\":[6,5,5,5,3,3,2,2,2,2,2,2,2,2,1,1,1,1,1,1,1,1,1,1,1,1,1,1,1,1,1],\"yaxis\":\"y\",\"type\":\"histogram\"},{\"alignmentgroup\":\"True\",\"bingroup\":\"x\",\"histfunc\":\"sum\",\"hovertemplate\":\"catetory=Data Quality Monitoring\\u003cbr\\u003ecompany.companyName=%{x}\\u003cbr\\u003esum of company._id_size=%{y}\\u003cextra\\u003e\\u003c\\u002fextra\\u003e\",\"legendgroup\":\"Data Quality Monitoring\",\"marker\":{\"color\":\"#FFA15A\",\"pattern\":{\"shape\":\"\"}},\"name\":\"Data Quality Monitoring\",\"offsetgroup\":\"Data Quality Monitoring\",\"orientation\":\"v\",\"showlegend\":true,\"x\":[\"Monte Carlo Data\",\"Spectacles\",\"Great Expectations\",\"Great Expectations\",\"Monte Carlo Data\",\"Datafold\",\"Databand\",\"ClueDin\",\"Anomalo\",\"Anomalo\",\"Bigeye\",\"Elementary Data\",\"Metaplane\",\"PipeRider\"],\"xaxis\":\"x\",\"y\":[6,4,4,3,2,2,2,2,2,2,1,1,1,1],\"yaxis\":\"y\",\"type\":\"histogram\"},{\"alignmentgroup\":\"True\",\"bingroup\":\"x\",\"histfunc\":\"sum\",\"hovertemplate\":\"catetory=Product Analytics\\u003cbr\\u003ecompany.companyName=%{x}\\u003cbr\\u003esum of company._id_size=%{y}\\u003cextra\\u003e\\u003c\\u002fextra\\u003e\",\"legendgroup\":\"Product Analytics\",\"marker\":{\"color\":\"#19d3f3\",\"pattern\":{\"shape\":\"\"}},\"name\":\"Product Analytics\",\"offsetgroup\":\"Product Analytics\",\"orientation\":\"v\",\"showlegend\":true,\"x\":[\"Mixpanel\",\"Avo\",\"Heap\",\"Mixpanel\",\"PostHog\",\"Avo\",\"Pendo\",\"Pendo\",\"June\",\"Indicative\",\"Heap\"],\"xaxis\":\"x\",\"y\":[6,4,2,2,2,1,1,1,1,1,1],\"yaxis\":\"y\",\"type\":\"histogram\"},{\"alignmentgroup\":\"True\",\"bingroup\":\"x\",\"histfunc\":\"sum\",\"hovertemplate\":\"catetory=Data Discovery\\u003cbr\\u003ecompany.companyName=%{x}\\u003cbr\\u003esum of company._id_size=%{y}\\u003cextra\\u003e\\u003c\\u002fextra\\u003e\",\"legendgroup\":\"Data Discovery\",\"marker\":{\"color\":\"#FF6692\",\"pattern\":{\"shape\":\"\"}},\"name\":\"Data Discovery\",\"offsetgroup\":\"Data Discovery\",\"orientation\":\"v\",\"showlegend\":true,\"x\":[\"Alteryx\",\"Secoda\",\"Google cloud data catalog & discovery\",\"Stemma AI\",\"Data Hub\",\"Data Hub\",\"Collibra\",\"Alteryx\",\"Alation\",\"Alation\",\"Amundsen\",\"Atlan\",\"Atlan\",\"Castor\",\"Marquez\",\"Metaphor\",\"Secoda\",\"Select Star\",\"Stemma AI\"],\"xaxis\":\"x\",\"y\":[5,5,3,2,2,2,2,2,2,2,1,1,1,1,1,1,1,1,1],\"yaxis\":\"y\",\"type\":\"histogram\"},{\"alignmentgroup\":\"True\",\"bingroup\":\"x\",\"histfunc\":\"sum\",\"hovertemplate\":\"catetory=Augmented Analytics\\u003cbr\\u003ecompany.companyName=%{x}\\u003cbr\\u003esum of company._id_size=%{y}\\u003cextra\\u003e\\u003c\\u002fextra\\u003e\",\"legendgroup\":\"Augmented Analytics\",\"marker\":{\"color\":\"#B6E880\",\"pattern\":{\"shape\":\"\"}},\"name\":\"Augmented Analytics\",\"offsetgroup\":\"Augmented Analytics\",\"orientation\":\"v\",\"showlegend\":true,\"x\":[\"ThoughtSpot\",\"Sisu Data\",\"Sisu Data\",\"Yellowfinbi\",\"Adverity.com\",\"Tellius\",\"ThoughtSpot\"],\"xaxis\":\"x\",\"y\":[5,3,3,2,1,1,1],\"yaxis\":\"y\",\"type\":\"histogram\"},{\"alignmentgroup\":\"True\",\"bingroup\":\"x\",\"histfunc\":\"sum\",\"hovertemplate\":\"catetory=Data Apps\\u003cbr\\u003ecompany.companyName=%{x}\\u003cbr\\u003esum of company._id_size=%{y}\\u003cextra\\u003e\\u003c\\u002fextra\\u003e\",\"legendgroup\":\"Data Apps\",\"marker\":{\"color\":\"#FF97FF\",\"pattern\":{\"shape\":\"\"}},\"name\":\"Data Apps\",\"offsetgroup\":\"Data Apps\",\"orientation\":\"v\",\"showlegend\":true,\"x\":[\"Streamlit\"],\"xaxis\":\"x\",\"y\":[5],\"yaxis\":\"y\",\"type\":\"histogram\"},{\"alignmentgroup\":\"True\",\"bingroup\":\"x\",\"histfunc\":\"sum\",\"hovertemplate\":\"catetory=Data Privacy and Governance\\u003cbr\\u003ecompany.companyName=%{x}\\u003cbr\\u003esum of company._id_size=%{y}\\u003cextra\\u003e\\u003c\\u002fextra\\u003e\",\"legendgroup\":\"Data Privacy and Governance\",\"marker\":{\"color\":\"#FECB52\",\"pattern\":{\"shape\":\"\"}},\"name\":\"Data Privacy and Governance\",\"offsetgroup\":\"Data Privacy and Governance\",\"orientation\":\"v\",\"showlegend\":true,\"x\":[\"Avo\",\"Collibra\",\"Talend\",\"Privacera\",\"Privacy Dynamics\",\"Avo\",\"Castor\",\"Okera\"],\"xaxis\":\"x\",\"y\":[4,2,2,2,1,1,1,1],\"yaxis\":\"y\",\"type\":\"histogram\"},{\"alignmentgroup\":\"True\",\"bingroup\":\"x\",\"histfunc\":\"sum\",\"hovertemplate\":\"catetory=Feature Store\\u003cbr\\u003ecompany.companyName=%{x}\\u003cbr\\u003esum of company._id_size=%{y}\\u003cextra\\u003e\\u003c\\u002fextra\\u003e\",\"legendgroup\":\"Feature Store\",\"marker\":{\"color\":\"#636efa\",\"pattern\":{\"shape\":\"\"}},\"name\":\"Feature Store\",\"offsetgroup\":\"Feature Store\",\"orientation\":\"v\",\"showlegend\":true,\"x\":[\"iguazio\",\"Molecula\",\"Tecton\",\"Continual\",\"Feast\"],\"xaxis\":\"x\",\"y\":[3,3,2,1,1],\"yaxis\":\"y\",\"type\":\"histogram\"},{\"alignmentgroup\":\"True\",\"bingroup\":\"x\",\"histfunc\":\"sum\",\"hovertemplate\":\"catetory=Operational Analytics \\u003cbr\\u003ecompany.companyName=%{x}\\u003cbr\\u003esum of company._id_size=%{y}\\u003cextra\\u003e\\u003c\\u002fextra\\u003e\",\"legendgroup\":\"Operational Analytics \",\"marker\":{\"color\":\"#EF553B\",\"pattern\":{\"shape\":\"\"}},\"name\":\"Operational Analytics \",\"offsetgroup\":\"Operational Analytics \",\"orientation\":\"v\",\"showlegend\":true,\"x\":[\"Variance\",\"Netspring\",\"Logic Loop\"],\"xaxis\":\"x\",\"y\":[3,3,1],\"yaxis\":\"y\",\"type\":\"histogram\"},{\"alignmentgroup\":\"True\",\"bingroup\":\"x\",\"histfunc\":\"sum\",\"hovertemplate\":\"catetory=Managed Data Stack\\u003cbr\\u003ecompany.companyName=%{x}\\u003cbr\\u003esum of company._id_size=%{y}\\u003cextra\\u003e\\u003c\\u002fextra\\u003e\",\"legendgroup\":\"Managed Data Stack\",\"marker\":{\"color\":\"#00cc96\",\"pattern\":{\"shape\":\"\"}},\"name\":\"Managed Data Stack\",\"offsetgroup\":\"Managed Data Stack\",\"orientation\":\"v\",\"showlegend\":true,\"x\":[\"Keboola\",\"y42\",\"DoubleCloud\",\"Selfr\",\"Mozart Data\"],\"xaxis\":\"x\",\"y\":[3,2,1,1,1],\"yaxis\":\"y\",\"type\":\"histogram\"},{\"alignmentgroup\":\"True\",\"bingroup\":\"x\",\"histfunc\":\"sum\",\"hovertemplate\":\"catetory=PLG CRM\\u003cbr\\u003ecompany.companyName=%{x}\\u003cbr\\u003esum of company._id_size=%{y}\\u003cextra\\u003e\\u003c\\u002fextra\\u003e\",\"legendgroup\":\"PLG CRM\",\"marker\":{\"color\":\"#ab63fa\",\"pattern\":{\"shape\":\"\"}},\"name\":\"PLG CRM\",\"offsetgroup\":\"PLG CRM\",\"orientation\":\"v\",\"showlegend\":true,\"x\":[\"Variance\",\"Correlated\"],\"xaxis\":\"x\",\"y\":[3,2],\"yaxis\":\"y\",\"type\":\"histogram\"},{\"alignmentgroup\":\"True\",\"bingroup\":\"x\",\"histfunc\":\"sum\",\"hovertemplate\":\"catetory=No code automation\\u003cbr\\u003ecompany.companyName=%{x}\\u003cbr\\u003esum of company._id_size=%{y}\\u003cextra\\u003e\\u003c\\u002fextra\\u003e\",\"legendgroup\":\"No code automation\",\"marker\":{\"color\":\"#FFA15A\",\"pattern\":{\"shape\":\"\"}},\"name\":\"No code automation\",\"offsetgroup\":\"No code automation\",\"orientation\":\"v\",\"showlegend\":true,\"x\":[\"Integromat\",\"Kissflow\",\"Integrately\",\"Tray.io\",\"Celigo\",\"Integromat\"],\"xaxis\":\"x\",\"y\":[3,1,1,1,1,1],\"yaxis\":\"y\",\"type\":\"histogram\"},{\"alignmentgroup\":\"True\",\"bingroup\":\"x\",\"histfunc\":\"sum\",\"hovertemplate\":\"catetory=Change Data Capture\\u003cbr\\u003ecompany.companyName=%{x}\\u003cbr\\u003esum of company._id_size=%{y}\\u003cextra\\u003e\\u003c\\u002fextra\\u003e\",\"legendgroup\":\"Change Data Capture\",\"marker\":{\"color\":\"#19d3f3\",\"pattern\":{\"shape\":\"\"}},\"name\":\"Change Data Capture\",\"offsetgroup\":\"Change Data Capture\",\"orientation\":\"v\",\"showlegend\":true,\"x\":[\"Debezium\",\"Debezium\",\"HVR\"],\"xaxis\":\"x\",\"y\":[3,1,1],\"yaxis\":\"y\",\"type\":\"histogram\"},{\"alignmentgroup\":\"True\",\"bingroup\":\"x\",\"histfunc\":\"sum\",\"hovertemplate\":\"catetory=Synthetic Data\\u003cbr\\u003ecompany.companyName=%{x}\\u003cbr\\u003esum of company._id_size=%{y}\\u003cextra\\u003e\\u003c\\u002fextra\\u003e\",\"legendgroup\":\"Synthetic Data\",\"marker\":{\"color\":\"#FF6692\",\"pattern\":{\"shape\":\"\"}},\"name\":\"Synthetic Data\",\"offsetgroup\":\"Synthetic Data\",\"orientation\":\"v\",\"showlegend\":true,\"x\":[\"Datomize\",\"Hazy\",\"edge case\"],\"xaxis\":\"x\",\"y\":[3,1,1],\"yaxis\":\"y\",\"type\":\"histogram\"},{\"alignmentgroup\":\"True\",\"bingroup\":\"x\",\"histfunc\":\"sum\",\"hovertemplate\":\"catetory=Business Reliability\\u002fObservability\\u003cbr\\u003ecompany.companyName=%{x}\\u003cbr\\u003esum of company._id_size=%{y}\\u003cextra\\u003e\\u003c\\u002fextra\\u003e\",\"legendgroup\":\"Business Reliability\\u002fObservability\",\"marker\":{\"color\":\"#B6E880\",\"pattern\":{\"shape\":\"\"}},\"name\":\"Business Reliability\\u002fObservability\",\"offsetgroup\":\"Business Reliability\\u002fObservability\",\"orientation\":\"v\",\"showlegend\":true,\"x\":[\"Quantive Signals\"],\"xaxis\":\"x\",\"y\":[2],\"yaxis\":\"y\",\"type\":\"histogram\"},{\"alignmentgroup\":\"True\",\"bingroup\":\"x\",\"histfunc\":\"sum\",\"hovertemplate\":\"catetory=Data Mesh\\u003cbr\\u003ecompany.companyName=%{x}\\u003cbr\\u003esum of company._id_size=%{y}\\u003cextra\\u003e\\u003c\\u002fextra\\u003e\",\"legendgroup\":\"Data Mesh\",\"marker\":{\"color\":\"#FF97FF\",\"pattern\":{\"shape\":\"\"}},\"name\":\"Data Mesh\",\"offsetgroup\":\"Data Mesh\",\"orientation\":\"v\",\"showlegend\":true,\"x\":[\"Starburst\",\"Nexla\"],\"xaxis\":\"x\",\"y\":[2,2],\"yaxis\":\"y\",\"type\":\"histogram\"}],                        {\"template\":{\"data\":{\"histogram2dcontour\":[{\"type\":\"histogram2dcontour\",\"colorbar\":{\"outlinewidth\":0,\"ticks\":\"\"},\"colorscale\":[[0.0,\"#0d0887\"],[0.1111111111111111,\"#46039f\"],[0.2222222222222222,\"#7201a8\"],[0.3333333333333333,\"#9c179e\"],[0.4444444444444444,\"#bd3786\"],[0.5555555555555556,\"#d8576b\"],[0.6666666666666666,\"#ed7953\"],[0.7777777777777778,\"#fb9f3a\"],[0.8888888888888888,\"#fdca26\"],[1.0,\"#f0f921\"]]}],\"choropleth\":[{\"type\":\"choropleth\",\"colorbar\":{\"outlinewidth\":0,\"ticks\":\"\"}}],\"histogram2d\":[{\"type\":\"histogram2d\",\"colorbar\":{\"outlinewidth\":0,\"ticks\":\"\"},\"colorscale\":[[0.0,\"#0d0887\"],[0.1111111111111111,\"#46039f\"],[0.2222222222222222,\"#7201a8\"],[0.3333333333333333,\"#9c179e\"],[0.4444444444444444,\"#bd3786\"],[0.5555555555555556,\"#d8576b\"],[0.6666666666666666,\"#ed7953\"],[0.7777777777777778,\"#fb9f3a\"],[0.8888888888888888,\"#fdca26\"],[1.0,\"#f0f921\"]]}],\"heatmap\":[{\"type\":\"heatmap\",\"colorbar\":{\"outlinewidth\":0,\"ticks\":\"\"},\"colorscale\":[[0.0,\"#0d0887\"],[0.1111111111111111,\"#46039f\"],[0.2222222222222222,\"#7201a8\"],[0.3333333333333333,\"#9c179e\"],[0.4444444444444444,\"#bd3786\"],[0.5555555555555556,\"#d8576b\"],[0.6666666666666666,\"#ed7953\"],[0.7777777777777778,\"#fb9f3a\"],[0.8888888888888888,\"#fdca26\"],[1.0,\"#f0f921\"]]}],\"heatmapgl\":[{\"type\":\"heatmapgl\",\"colorbar\":{\"outlinewidth\":0,\"ticks\":\"\"},\"colorscale\":[[0.0,\"#0d0887\"],[0.1111111111111111,\"#46039f\"],[0.2222222222222222,\"#7201a8\"],[0.3333333333333333,\"#9c179e\"],[0.4444444444444444,\"#bd3786\"],[0.5555555555555556,\"#d8576b\"],[0.6666666666666666,\"#ed7953\"],[0.7777777777777778,\"#fb9f3a\"],[0.8888888888888888,\"#fdca26\"],[1.0,\"#f0f921\"]]}],\"contourcarpet\":[{\"type\":\"contourcarpet\",\"colorbar\":{\"outlinewidth\":0,\"ticks\":\"\"}}],\"contour\":[{\"type\":\"contour\",\"colorbar\":{\"outlinewidth\":0,\"ticks\":\"\"},\"colorscale\":[[0.0,\"#0d0887\"],[0.1111111111111111,\"#46039f\"],[0.2222222222222222,\"#7201a8\"],[0.3333333333333333,\"#9c179e\"],[0.4444444444444444,\"#bd3786\"],[0.5555555555555556,\"#d8576b\"],[0.6666666666666666,\"#ed7953\"],[0.7777777777777778,\"#fb9f3a\"],[0.8888888888888888,\"#fdca26\"],[1.0,\"#f0f921\"]]}],\"surface\":[{\"type\":\"surface\",\"colorbar\":{\"outlinewidth\":0,\"ticks\":\"\"},\"colorscale\":[[0.0,\"#0d0887\"],[0.1111111111111111,\"#46039f\"],[0.2222222222222222,\"#7201a8\"],[0.3333333333333333,\"#9c179e\"],[0.4444444444444444,\"#bd3786\"],[0.5555555555555556,\"#d8576b\"],[0.6666666666666666,\"#ed7953\"],[0.7777777777777778,\"#fb9f3a\"],[0.8888888888888888,\"#fdca26\"],[1.0,\"#f0f921\"]]}],\"mesh3d\":[{\"type\":\"mesh3d\",\"colorbar\":{\"outlinewidth\":0,\"ticks\":\"\"}}],\"scatter\":[{\"fillpattern\":{\"fillmode\":\"overlay\",\"size\":10,\"solidity\":0.2},\"type\":\"scatter\"}],\"parcoords\":[{\"type\":\"parcoords\",\"line\":{\"colorbar\":{\"outlinewidth\":0,\"ticks\":\"\"}}}],\"scatterpolargl\":[{\"type\":\"scatterpolargl\",\"marker\":{\"colorbar\":{\"outlinewidth\":0,\"ticks\":\"\"}}}],\"bar\":[{\"error_x\":{\"color\":\"#2a3f5f\"},\"error_y\":{\"color\":\"#2a3f5f\"},\"marker\":{\"line\":{\"color\":\"#E5ECF6\",\"width\":0.5},\"pattern\":{\"fillmode\":\"overlay\",\"size\":10,\"solidity\":0.2}},\"type\":\"bar\"}],\"scattergeo\":[{\"type\":\"scattergeo\",\"marker\":{\"colorbar\":{\"outlinewidth\":0,\"ticks\":\"\"}}}],\"scatterpolar\":[{\"type\":\"scatterpolar\",\"marker\":{\"colorbar\":{\"outlinewidth\":0,\"ticks\":\"\"}}}],\"histogram\":[{\"marker\":{\"pattern\":{\"fillmode\":\"overlay\",\"size\":10,\"solidity\":0.2}},\"type\":\"histogram\"}],\"scattergl\":[{\"type\":\"scattergl\",\"marker\":{\"colorbar\":{\"outlinewidth\":0,\"ticks\":\"\"}}}],\"scatter3d\":[{\"type\":\"scatter3d\",\"line\":{\"colorbar\":{\"outlinewidth\":0,\"ticks\":\"\"}},\"marker\":{\"colorbar\":{\"outlinewidth\":0,\"ticks\":\"\"}}}],\"scattermapbox\":[{\"type\":\"scattermapbox\",\"marker\":{\"colorbar\":{\"outlinewidth\":0,\"ticks\":\"\"}}}],\"scatterternary\":[{\"type\":\"scatterternary\",\"marker\":{\"colorbar\":{\"outlinewidth\":0,\"ticks\":\"\"}}}],\"scattercarpet\":[{\"type\":\"scattercarpet\",\"marker\":{\"colorbar\":{\"outlinewidth\":0,\"ticks\":\"\"}}}],\"carpet\":[{\"aaxis\":{\"endlinecolor\":\"#2a3f5f\",\"gridcolor\":\"white\",\"linecolor\":\"white\",\"minorgridcolor\":\"white\",\"startlinecolor\":\"#2a3f5f\"},\"baxis\":{\"endlinecolor\":\"#2a3f5f\",\"gridcolor\":\"white\",\"linecolor\":\"white\",\"minorgridcolor\":\"white\",\"startlinecolor\":\"#2a3f5f\"},\"type\":\"carpet\"}],\"table\":[{\"cells\":{\"fill\":{\"color\":\"#EBF0F8\"},\"line\":{\"color\":\"white\"}},\"header\":{\"fill\":{\"color\":\"#C8D4E3\"},\"line\":{\"color\":\"white\"}},\"type\":\"table\"}],\"barpolar\":[{\"marker\":{\"line\":{\"color\":\"#E5ECF6\",\"width\":0.5},\"pattern\":{\"fillmode\":\"overlay\",\"size\":10,\"solidity\":0.2}},\"type\":\"barpolar\"}],\"pie\":[{\"automargin\":true,\"type\":\"pie\"}]},\"layout\":{\"autotypenumbers\":\"strict\",\"colorway\":[\"#636efa\",\"#EF553B\",\"#00cc96\",\"#ab63fa\",\"#FFA15A\",\"#19d3f3\",\"#FF6692\",\"#B6E880\",\"#FF97FF\",\"#FECB52\"],\"font\":{\"color\":\"#2a3f5f\"},\"hovermode\":\"closest\",\"hoverlabel\":{\"align\":\"left\"},\"paper_bgcolor\":\"white\",\"plot_bgcolor\":\"#E5ECF6\",\"polar\":{\"bgcolor\":\"#E5ECF6\",\"angularaxis\":{\"gridcolor\":\"white\",\"linecolor\":\"white\",\"ticks\":\"\"},\"radialaxis\":{\"gridcolor\":\"white\",\"linecolor\":\"white\",\"ticks\":\"\"}},\"ternary\":{\"bgcolor\":\"#E5ECF6\",\"aaxis\":{\"gridcolor\":\"white\",\"linecolor\":\"white\",\"ticks\":\"\"},\"baxis\":{\"gridcolor\":\"white\",\"linecolor\":\"white\",\"ticks\":\"\"},\"caxis\":{\"gridcolor\":\"white\",\"linecolor\":\"white\",\"ticks\":\"\"}},\"coloraxis\":{\"colorbar\":{\"outlinewidth\":0,\"ticks\":\"\"}},\"colorscale\":{\"sequential\":[[0.0,\"#0d0887\"],[0.1111111111111111,\"#46039f\"],[0.2222222222222222,\"#7201a8\"],[0.3333333333333333,\"#9c179e\"],[0.4444444444444444,\"#bd3786\"],[0.5555555555555556,\"#d8576b\"],[0.6666666666666666,\"#ed7953\"],[0.7777777777777778,\"#fb9f3a\"],[0.8888888888888888,\"#fdca26\"],[1.0,\"#f0f921\"]],\"sequentialminus\":[[0.0,\"#0d0887\"],[0.1111111111111111,\"#46039f\"],[0.2222222222222222,\"#7201a8\"],[0.3333333333333333,\"#9c179e\"],[0.4444444444444444,\"#bd3786\"],[0.5555555555555556,\"#d8576b\"],[0.6666666666666666,\"#ed7953\"],[0.7777777777777778,\"#fb9f3a\"],[0.8888888888888888,\"#fdca26\"],[1.0,\"#f0f921\"]],\"diverging\":[[0,\"#8e0152\"],[0.1,\"#c51b7d\"],[0.2,\"#de77ae\"],[0.3,\"#f1b6da\"],[0.4,\"#fde0ef\"],[0.5,\"#f7f7f7\"],[0.6,\"#e6f5d0\"],[0.7,\"#b8e186\"],[0.8,\"#7fbc41\"],[0.9,\"#4d9221\"],[1,\"#276419\"]]},\"xaxis\":{\"gridcolor\":\"white\",\"linecolor\":\"white\",\"ticks\":\"\",\"title\":{\"standoff\":15},\"zerolinecolor\":\"white\",\"automargin\":true,\"zerolinewidth\":2},\"yaxis\":{\"gridcolor\":\"white\",\"linecolor\":\"white\",\"ticks\":\"\",\"title\":{\"standoff\":15},\"zerolinecolor\":\"white\",\"automargin\":true,\"zerolinewidth\":2},\"scene\":{\"xaxis\":{\"backgroundcolor\":\"#E5ECF6\",\"gridcolor\":\"white\",\"linecolor\":\"white\",\"showbackground\":true,\"ticks\":\"\",\"zerolinecolor\":\"white\",\"gridwidth\":2},\"yaxis\":{\"backgroundcolor\":\"#E5ECF6\",\"gridcolor\":\"white\",\"linecolor\":\"white\",\"showbackground\":true,\"ticks\":\"\",\"zerolinecolor\":\"white\",\"gridwidth\":2},\"zaxis\":{\"backgroundcolor\":\"#E5ECF6\",\"gridcolor\":\"white\",\"linecolor\":\"white\",\"showbackground\":true,\"ticks\":\"\",\"zerolinecolor\":\"white\",\"gridwidth\":2}},\"shapedefaults\":{\"line\":{\"color\":\"#2a3f5f\"}},\"annotationdefaults\":{\"arrowcolor\":\"#2a3f5f\",\"arrowhead\":0,\"arrowwidth\":1},\"geo\":{\"bgcolor\":\"white\",\"landcolor\":\"#E5ECF6\",\"subunitcolor\":\"white\",\"showland\":true,\"showlakes\":true,\"lakecolor\":\"white\"},\"title\":{\"x\":0.05},\"mapbox\":{\"style\":\"light\"}}},\"xaxis\":{\"anchor\":\"y\",\"domain\":[0.0,1.0],\"title\":{\"text\":\"company.companyName\"}},\"yaxis\":{\"anchor\":\"x\",\"domain\":[0.0,1.0],\"title\":{\"text\":\"sum of company._id_size\"}},\"legend\":{\"title\":{\"text\":\"catetory\"},\"tracegroupgap\":0},\"margin\":{\"t\":60},\"barmode\":\"relative\"},                        {\"responsive\": true}                    ).then(function(){\n",
       "                            \n",
       "var gd = document.getElementById('a924a293-eb12-4961-9906-a5ad8134e184');\n",
       "var x = new MutationObserver(function (mutations, observer) {{\n",
       "        var display = window.getComputedStyle(gd).display;\n",
       "        if (!display || display === 'none') {{\n",
       "            console.log([gd, 'removed!']);\n",
       "            Plotly.purge(gd);\n",
       "            observer.disconnect();\n",
       "        }}\n",
       "}});\n",
       "\n",
       "// Listen for the removal of the full notebook cells\n",
       "var notebookContainer = gd.closest('#notebook-container');\n",
       "if (notebookContainer) {{\n",
       "    x.observe(notebookContainer, {childList: true});\n",
       "}}\n",
       "\n",
       "// Listen for the clearing of the current output cell\n",
       "var outputEl = gd.closest('.output');\n",
       "if (outputEl) {{\n",
       "    x.observe(outputEl, {childList: true});\n",
       "}}\n",
       "\n",
       "                        })                };                });            </script>        </div>"
      ]
     },
     "metadata": {},
     "output_type": "display_data"
    }
   ],
   "source": [
    "import plotly.express as px\n",
    "fig = px.histogram(gb_cat_comp_veri_unique, x='company.companyName', y='company._id_size', color='catetory')\n",
    "fig"
   ]
  }
 ],
 "metadata": {
  "kernelspec": {
   "display_name": "venv",
   "language": "python",
   "name": "venv"
  },
  "language_info": {
   "codemirror_mode": {
    "name": "ipython",
    "version": 3
   },
   "file_extension": ".py",
   "mimetype": "text/x-python",
   "name": "python",
   "nbconvert_exporter": "python",
   "pygments_lexer": "ipython3",
   "version": "3.7.6"
  },
  "vscode": {
   "interpreter": {
    "hash": "c98354b18aefac058a38ecc4a69044b889da1d6b8faba71fe0e22109e6d41df5"
   }
  }
 },
 "nbformat": 4,
 "nbformat_minor": 2
}
