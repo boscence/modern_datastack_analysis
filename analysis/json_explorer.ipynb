{
 "cells": [
  {
   "cell_type": "code",
   "execution_count": 1,
   "metadata": {},
   "outputs": [],
   "source": [
    "import pandas as pd\n",
    "import json\n",
    "import os\n",
    "import bamboolib as bam"
   ]
  },
  {
   "cell_type": "code",
   "execution_count": 14,
   "metadata": {},
   "outputs": [],
   "source": [
    "stacks = pd.read_parquet('../data/staging/mds/stack')"
   ]
  },
  {
   "cell_type": "code",
   "execution_count": 3,
   "metadata": {},
   "outputs": [],
   "source": [
    "companies = pd.read_parquet('../data/staging/mds/company',use_nullable_dtypes = True)   "
   ]
  },
  {
   "cell_type": "code",
   "execution_count": 4,
   "metadata": {},
   "outputs": [
    {
     "data": {
      "application/vnd.jupyter.widget-view+json": {
       "model_id": "762a23ddca1f44578fb3b46ee0fc6985"
      },
      "text/plain": [
       "                      catetory               company._id company.companyName  \\\n",
       "0               Data Streaming  62431d925695a66c21971421        Apache Kafka   \n",
       "1               Event Tracking  62431d925695a66c21971438         Rudderstack   \n",
       "2            Reverse ETL Tools  62431d925695a66c21971438         Rudderstack   \n",
       "3  Customer Data Platform(CDP)  62431d925695a66c21971438         Rudderstack   \n",
       "4                    ETL Tools  62431d925695a66c21971438         Rudderstack   \n",
       "\n",
       "                                 company.companyLogo  company.slug  \\\n",
       "0  https://svn.apache.org/repos/asf/kafka/site/lo...  apache-kafka   \n",
       "1    https://media.graphcms.com/PWlXzNpzQ7KI1PCLbJKV   rudderstack   \n",
       "2    https://media.graphcms.com/PWlXzNpzQ7KI1PCLbJKV   rudderstack   \n",
       "3    https://media.graphcms.com/PWlXzNpzQ7KI1PCLbJKV   rudderstack   \n",
       "4    https://media.graphcms.com/PWlXzNpzQ7KI1PCLbJKV   rudderstack   \n",
       "\n",
       "                 company.url  \\\n",
       "0  https://kafka.apache.org/   \n",
       "1   https://rudderstack.com/   \n",
       "2   https://rudderstack.com/   \n",
       "3   https://rudderstack.com/   \n",
       "4   https://rudderstack.com/   \n",
       "\n",
       "                                  company.categories  \\\n",
       "0  [{'_id': '62431d905695a66c219712fe', 'name': '...   \n",
       "1  [{'_id': '62431d905695a66c219712ee', 'name': '...   \n",
       "2  [{'_id': '62431d905695a66c219712ee', 'name': '...   \n",
       "3  [{'_id': '62431d905695a66c219712ee', 'name': '...   \n",
       "4  [{'_id': '62431d905695a66c219712ee', 'name': '...   \n",
       "\n",
       "                        _id companyName verified load_date  \n",
       "0  62431d905695a66c2197123a         1mg    False  20230712  \n",
       "1  62431d905695a66c2197123a         1mg    False  20230712  \n",
       "2  62431d905695a66c2197123a         1mg    False  20230712  \n",
       "3  62431d905695a66c2197123a         1mg    False  20230712  \n",
       "4  62431d905695a66c2197123a         1mg    False  20230712  "
      ]
     },
     "metadata": {},
     "output_type": "display_data"
    }
   ],
   "source": [
    "stacks.head()"
   ]
  },
  {
   "cell_type": "code",
   "execution_count": 5,
   "metadata": {},
   "outputs": [
    {
     "data": {
      "application/vnd.jupyter.widget-view+json": {
       "model_id": "eea9ab83061b4a2c9a3d898e6cf5a0f3"
      },
      "text/plain": [
       "                        _id   companyName  \\\n",
       "0  62431d905695a66c2197123a           1mg   \n",
       "1  62de961751b67be05f6baeb9  3step sports   \n",
       "2  62b2f69d51b67be05f4acd54            5x   \n",
       "3  62431d905695a66c2197123e      Adevinta   \n",
       "4  62431d905695a66c219712b4        Affirm   \n",
       "\n",
       "                                         description  \\\n",
       "0  1mg is an online platform that provides medica...   \n",
       "1   step is the largest youth sport event and clu...   \n",
       "2                     modern data stack as a service   \n",
       "3  Adevinta is an online marketplace for second-h...   \n",
       "4  Affirm modern technology to bring significant ...   \n",
       "\n",
       "             organizationId  verified  \n",
       "0  62431de75695a66c21974052     False  \n",
       "1  62de961751b67be05f6baebc      True  \n",
       "2  62b2f69d51b67be05f4acd57      True  \n",
       "3  62431de75695a66c21974056     False  \n",
       "4  62431de75695a66c219740cc     False  "
      ]
     },
     "metadata": {},
     "output_type": "display_data"
    }
   ],
   "source": [
    "companies.head()"
   ]
  },
  {
   "cell_type": "markdown",
   "metadata": {},
   "source": [
    "### How many companies have added their stack?"
   ]
  },
  {
   "cell_type": "code",
   "execution_count": 6,
   "metadata": {},
   "outputs": [
    {
     "data": {
      "text/plain": [
       "359"
      ]
     },
     "execution_count": 6,
     "metadata": {},
     "output_type": "execute_result"
    }
   ],
   "source": [
    "companies['_id'].nunique()"
   ]
  },
  {
   "cell_type": "code",
   "execution_count": 17,
   "metadata": {},
   "outputs": [
    {
     "data": {
      "text/plain": [
       "2140"
      ]
     },
     "execution_count": 17,
     "metadata": {},
     "output_type": "execute_result"
    }
   ],
   "source": [
    "len(stacks)"
   ]
  },
  {
   "cell_type": "markdown",
   "metadata": {},
   "source": [
    "### How many verified companies have added their stack?"
   ]
  },
  {
   "cell_type": "code",
   "execution_count": 7,
   "metadata": {},
   "outputs": [
    {
     "data": {
      "text/plain": [
       "verified\n",
       "False    0.537604\n",
       "True     0.454039\n",
       "Name: _id, dtype: float64"
      ]
     },
     "execution_count": 7,
     "metadata": {},
     "output_type": "execute_result"
    }
   ],
   "source": [
    "companies.groupby('verified')[\"_id\"].nunique()/len(companies)"
   ]
  },
  {
   "cell_type": "code",
   "execution_count": 8,
   "metadata": {
    "scrolled": true
   },
   "outputs": [
    {
     "data": {
      "application/vnd.jupyter.widget-view+json": {
       "model_id": "c7eee79f22d44e54afaab62559168553"
      },
      "text/plain": [
       "   verified  frequency\n",
       "0     False        193\n",
       "1      True        163"
      ]
     },
     "metadata": {},
     "output_type": "display_data"
    }
   ],
   "source": [
    "import pandas as pd; import numpy as np\n",
    "# Step: Group by verified and calculate new column(s)\n",
    "companies = companies.groupby(['verified']).agg(frequency=('_id', 'size')).reset_index()\n",
    "\n",
    "companies"
   ]
  },
  {
   "cell_type": "markdown",
   "metadata": {},
   "source": [
    "### Some simple eda"
   ]
  },
  {
   "cell_type": "code",
   "execution_count": 18,
   "metadata": {},
   "outputs": [
    {
     "data": {
      "application/vnd.jupyter.widget-view+json": {
       "model_id": "3e473ad246904fa6abd613d8491891f7"
      },
      "text/plain": [
       "    company.companyName  company._id_size\n",
       "180                 dbt               220\n",
       "151           Snowflake               145\n",
       "65             Fivetran               123\n",
       "100              Looker               119\n",
       "6               Airflow               104\n",
       "..                  ...               ...\n",
       "122           PipeRider                 1\n",
       "53              Datakin                 1\n",
       "119               Okera                 1\n",
       "118            Noteable                 1\n",
       "93               Kestra                 1\n",
       "\n",
       "[186 rows x 2 columns]"
      ]
     },
     "metadata": {},
     "output_type": "display_data"
    }
   ],
   "source": [
    "import pandas as pd; import numpy as np\n",
    "# Step: Group by and aggregate\n",
    "stacks = stacks.groupby(['company.companyName']).agg(**{'company._id_size': ('company._id', 'size')}).reset_index()\n",
    "\n",
    "# Step: Sort column(s) company._id_size descending (Z-A)\n",
    "stacks = stacks.sort_values(by=['company._id_size'], ascending=[False])\n",
    "\n",
    "stacks"
   ]
  },
  {
   "cell_type": "code",
   "execution_count": 10,
   "metadata": {},
   "outputs": [
    {
     "ename": "KeyError",
     "evalue": "'catetory'",
     "output_type": "error",
     "traceback": [
      "\u001b[0;31m---------------------------------------------------------------------------\u001b[0m",
      "\u001b[0;31mKeyError\u001b[0m                                  Traceback (most recent call last)",
      "\u001b[0;32m/tmp/ipykernel_4305/2275380534.py\u001b[0m in \u001b[0;36m<module>\u001b[0;34m\u001b[0m\n\u001b[0;32m----> 1\u001b[0;31m \u001b[0mbb\u001b[0m \u001b[0;34m=\u001b[0m \u001b[0mstacks\u001b[0m\u001b[0;34m.\u001b[0m\u001b[0mgroupby\u001b[0m\u001b[0;34m(\u001b[0m\u001b[0;34m[\u001b[0m\u001b[0;34m\"catetory\"\u001b[0m\u001b[0;34m,\u001b[0m\u001b[0;34m\"company.companyName\"\u001b[0m\u001b[0;34m]\u001b[0m\u001b[0;34m)\u001b[0m\u001b[0;34m.\u001b[0m\u001b[0msize\u001b[0m\u001b[0;34m(\u001b[0m\u001b[0;34m)\u001b[0m\u001b[0;34m.\u001b[0m\u001b[0mreset_index\u001b[0m\u001b[0;34m(\u001b[0m\u001b[0mname\u001b[0m \u001b[0;34m=\u001b[0m \u001b[0;34m'counted'\u001b[0m\u001b[0;34m)\u001b[0m\u001b[0;34m\u001b[0m\u001b[0;34m\u001b[0m\u001b[0m\n\u001b[0m",
      "\u001b[0;32m~/modern_datastack_analysis/venv/lib/python3.7/site-packages/pandas/core/frame.py\u001b[0m in \u001b[0;36mgroupby\u001b[0;34m(self, by, axis, level, as_index, sort, group_keys, squeeze, observed, dropna)\u001b[0m\n\u001b[1;32m   7639\u001b[0m             \u001b[0msqueeze\u001b[0m\u001b[0;34m=\u001b[0m\u001b[0msqueeze\u001b[0m\u001b[0;34m,\u001b[0m  \u001b[0;31m# type: ignore[arg-type]\u001b[0m\u001b[0;34m\u001b[0m\u001b[0;34m\u001b[0m\u001b[0m\n\u001b[1;32m   7640\u001b[0m             \u001b[0mobserved\u001b[0m\u001b[0;34m=\u001b[0m\u001b[0mobserved\u001b[0m\u001b[0;34m,\u001b[0m\u001b[0;34m\u001b[0m\u001b[0;34m\u001b[0m\u001b[0m\n\u001b[0;32m-> 7641\u001b[0;31m             \u001b[0mdropna\u001b[0m\u001b[0;34m=\u001b[0m\u001b[0mdropna\u001b[0m\u001b[0;34m,\u001b[0m\u001b[0;34m\u001b[0m\u001b[0;34m\u001b[0m\u001b[0m\n\u001b[0m\u001b[1;32m   7642\u001b[0m         )\n\u001b[1;32m   7643\u001b[0m \u001b[0;34m\u001b[0m\u001b[0m\n",
      "\u001b[0;32m~/modern_datastack_analysis/venv/lib/python3.7/site-packages/pandas/core/groupby/groupby.py\u001b[0m in \u001b[0;36m__init__\u001b[0;34m(self, obj, keys, axis, level, grouper, exclusions, selection, as_index, sort, group_keys, squeeze, observed, mutated, dropna)\u001b[0m\n\u001b[1;32m    895\u001b[0m                 \u001b[0mobserved\u001b[0m\u001b[0;34m=\u001b[0m\u001b[0mobserved\u001b[0m\u001b[0;34m,\u001b[0m\u001b[0;34m\u001b[0m\u001b[0;34m\u001b[0m\u001b[0m\n\u001b[1;32m    896\u001b[0m                 \u001b[0mmutated\u001b[0m\u001b[0;34m=\u001b[0m\u001b[0mself\u001b[0m\u001b[0;34m.\u001b[0m\u001b[0mmutated\u001b[0m\u001b[0;34m,\u001b[0m\u001b[0;34m\u001b[0m\u001b[0;34m\u001b[0m\u001b[0m\n\u001b[0;32m--> 897\u001b[0;31m                 \u001b[0mdropna\u001b[0m\u001b[0;34m=\u001b[0m\u001b[0mself\u001b[0m\u001b[0;34m.\u001b[0m\u001b[0mdropna\u001b[0m\u001b[0;34m,\u001b[0m\u001b[0;34m\u001b[0m\u001b[0;34m\u001b[0m\u001b[0m\n\u001b[0m\u001b[1;32m    898\u001b[0m             )\n\u001b[1;32m    899\u001b[0m \u001b[0;34m\u001b[0m\u001b[0m\n",
      "\u001b[0;32m~/modern_datastack_analysis/venv/lib/python3.7/site-packages/pandas/core/groupby/grouper.py\u001b[0m in \u001b[0;36mget_grouper\u001b[0;34m(obj, key, axis, level, sort, observed, mutated, validate, dropna)\u001b[0m\n\u001b[1;32m    860\u001b[0m                 \u001b[0min_axis\u001b[0m\u001b[0;34m,\u001b[0m \u001b[0mlevel\u001b[0m\u001b[0;34m,\u001b[0m \u001b[0mgpr\u001b[0m \u001b[0;34m=\u001b[0m \u001b[0;32mFalse\u001b[0m\u001b[0;34m,\u001b[0m \u001b[0mgpr\u001b[0m\u001b[0;34m,\u001b[0m \u001b[0;32mNone\u001b[0m\u001b[0;34m\u001b[0m\u001b[0;34m\u001b[0m\u001b[0m\n\u001b[1;32m    861\u001b[0m             \u001b[0;32melse\u001b[0m\u001b[0;34m:\u001b[0m\u001b[0;34m\u001b[0m\u001b[0;34m\u001b[0m\u001b[0m\n\u001b[0;32m--> 862\u001b[0;31m                 \u001b[0;32mraise\u001b[0m \u001b[0mKeyError\u001b[0m\u001b[0;34m(\u001b[0m\u001b[0mgpr\u001b[0m\u001b[0;34m)\u001b[0m\u001b[0;34m\u001b[0m\u001b[0;34m\u001b[0m\u001b[0m\n\u001b[0m\u001b[1;32m    863\u001b[0m         \u001b[0;32melif\u001b[0m \u001b[0misinstance\u001b[0m\u001b[0;34m(\u001b[0m\u001b[0mgpr\u001b[0m\u001b[0;34m,\u001b[0m \u001b[0mGrouper\u001b[0m\u001b[0;34m)\u001b[0m \u001b[0;32mand\u001b[0m \u001b[0mgpr\u001b[0m\u001b[0;34m.\u001b[0m\u001b[0mkey\u001b[0m \u001b[0;32mis\u001b[0m \u001b[0;32mnot\u001b[0m \u001b[0;32mNone\u001b[0m\u001b[0;34m:\u001b[0m\u001b[0;34m\u001b[0m\u001b[0;34m\u001b[0m\u001b[0m\n\u001b[1;32m    864\u001b[0m             \u001b[0;31m# Add key to exclusions\u001b[0m\u001b[0;34m\u001b[0m\u001b[0;34m\u001b[0m\u001b[0;34m\u001b[0m\u001b[0m\n",
      "\u001b[0;31mKeyError\u001b[0m: 'catetory'"
     ]
    }
   ],
   "source": [
    "bb = stacks.groupby([\"catetory\",\"company.companyName\"]).size().reset_index(name = 'counted')"
   ]
  },
  {
   "cell_type": "code",
   "execution_count": null,
   "metadata": {},
   "outputs": [],
   "source": [
    "bb"
   ]
  },
  {
   "cell_type": "code",
   "execution_count": null,
   "metadata": {},
   "outputs": [],
   "source": [
    "bb.sort_values(by = \"counted\",ascending=False ).head(50)"
   ]
  },
  {
   "cell_type": "code",
   "execution_count": null,
   "metadata": {},
   "outputs": [],
   "source": [
    "import pandas as pd; import numpy as np\n",
    "# Step: Group by and aggregate\n",
    "gb_cat_comp_veri_unique = stacks.groupby(['catetory', 'company.companyName', 'verified']).agg(**{'company._id_size': ('company._id', 'size')}).reset_index()\n",
    "\n",
    "# Step: Sort column(s) company._id_size descending (Z-A)\n",
    "gb_cat_comp_veri_unique = gb_cat_comp_veri_unique.sort_values(by=['company._id_size'], ascending=[False])\n",
    "\n",
    "gb_cat_comp_veri_unique"
   ]
  },
  {
   "cell_type": "code",
   "execution_count": null,
   "metadata": {},
   "outputs": [],
   "source": [
    "# Step: Group by and aggregate\n",
    "gb_cat_comp_veri_unique = stacks.groupby(['catetory', 'companyName', 'verified']).agg(**{'company._id_size': ('company._id', 'size')}).reset_index()\n",
    "\n"
   ]
  },
  {
   "cell_type": "code",
   "execution_count": null,
   "metadata": {},
   "outputs": [],
   "source": [
    "gb_cat_comp_veri_unique"
   ]
  },
  {
   "cell_type": "code",
   "execution_count": null,
   "metadata": {},
   "outputs": [],
   "source": [
    "import plotly.express as px\n",
    "fig = px.histogram(gb_cat_comp_veri_unique, x='company.companyName', y='company._id_size', color='catetory')\n",
    "fig"
   ]
  }
 ],
 "metadata": {
  "kernelspec": {
   "display_name": "venv",
   "language": "python",
   "name": "venv"
  },
  "language_info": {
   "codemirror_mode": {
    "name": "ipython",
    "version": 3
   },
   "file_extension": ".py",
   "mimetype": "text/x-python",
   "name": "python",
   "nbconvert_exporter": "python",
   "pygments_lexer": "ipython3",
   "version": "3.7.6"
  },
  "vscode": {
   "interpreter": {
    "hash": "c98354b18aefac058a38ecc4a69044b889da1d6b8faba71fe0e22109e6d41df5"
   }
  }
 },
 "nbformat": 4,
 "nbformat_minor": 2
}
